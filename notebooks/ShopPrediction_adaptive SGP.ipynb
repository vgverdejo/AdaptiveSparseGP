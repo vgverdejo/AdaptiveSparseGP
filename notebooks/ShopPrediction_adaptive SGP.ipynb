{
 "cells": [
  {
   "cell_type": "code",
   "execution_count": 1,
   "metadata": {
    "colab": {
     "base_uri": "https://localhost:8080/"
    },
    "executionInfo": {
     "elapsed": 30,
     "status": "ok",
     "timestamp": 1662491134522,
     "user": {
      "displayName": "VANESSA GOMEZ VERDEJO",
      "userId": "10847227554119461925"
     },
     "user_tz": -120
    },
    "id": "lZbp69mawC5K",
    "outputId": "ec1b4101-ecbf-4671-9b0b-5105fc85ac83"
   },
   "outputs": [
    {
     "name": "stderr",
     "output_type": "stream",
     "text": [
      "/Applications/anaconda3/envs/AVSGP/lib/python3.10/site-packages/tqdm/auto.py:21: TqdmWarning: IProgress not found. Please update jupyter and ipywidgets. See https://ipywidgets.readthedocs.io/en/stable/user_install.html\n",
      "  from .autonotebook import tqdm as notebook_tqdm\n"
     ]
    }
   ],
   "source": [
    "import os\n",
    "import matplotlib.pyplot as plt\n",
    "import torch\n",
    "import numpy as np\n",
    "import copy\n",
    "import time\n",
    "import pandas as pd \n",
    "import pickle\n",
    "\n",
    "import pyro\n",
    "import pyro.contrib.gp as gp\n",
    "import pyro.distributions as dist\n",
    "\n",
    "pyro.set_rng_seed(0)\n",
    "plt.rcParams['figure.dpi'] = 100"
   ]
  },
  {
   "cell_type": "markdown",
   "metadata": {
    "id": "KFLfMwy6slE6"
   },
   "source": [
    "# General configuration"
   ]
  },
  {
   "cell_type": "code",
   "execution_count": 2,
   "metadata": {
    "colab": {
     "base_uri": "https://localhost:8080/"
    },
    "executionInfo": {
     "elapsed": 11,
     "status": "ok",
     "timestamp": 1662104504648,
     "user": {
      "displayName": "VANESSA GOMEZ VERDEJO",
      "userId": "10847227554119461925"
     },
     "user_tz": -120
    },
    "id": "2R0CGlkKsrU9",
    "outputId": "d251fb5d-1516-4b21-a83c-f14ec42cc964"
   },
   "outputs": [
    {
     "name": "stdout",
     "output_type": "stream",
     "text": [
      "0.9747402255566063\n"
     ]
    }
   ],
   "source": [
    "M = 20\n",
    "T = 90\n",
    "\n",
    "# Some parameters\n",
    "num_steps_init = 200\n",
    "num_steps_online = 1\n",
    "\n",
    "lamb_ = np.exp(np.log(0.1)/T) \n",
    "print(lamb_)\n"
   ]
  },
  {
   "cell_type": "markdown",
   "metadata": {
    "id": "pJl71RqCsiJB"
   },
   "source": [
    "# Data generation"
   ]
  },
  {
   "cell_type": "code",
   "execution_count": 3,
   "metadata": {},
   "outputs": [],
   "source": [
    "# We predict next day with the previous week\n",
    "\n",
    "# https://archive.ics.uci.edu/ml/datasets/Online+Retail\n",
    "def generate_data1():\n",
    "\n",
    "    file_name = '../data/OnlineRetail.xls'\n",
    "    df = pd.read_excel(file_name)\n",
    "    df.head()\n",
    "    \n",
    "    df['PriceTot'] = df ['Quantity']*df['UnitPrice']\n",
    "    df['InvoiceDate'] = pd.to_datetime(df['InvoiceDate']).dt.date\n",
    "    df = df[['InvoiceDate','PriceTot']]\n",
    "    data = df.groupby(['InvoiceDate']).sum().reset_index()\n",
    "    \n",
    "    data = data.sort_values(by='InvoiceDate')\n",
    "    \n",
    "    #Reshape X and Y by weeks\n",
    "    X = data.PriceTot.values\n",
    "    N_prev_days = 8\n",
    "    X_week = X[:-(N_prev_days+1)][:,np.newaxis]\n",
    "    for i in range(1,N_prev_days-1):\n",
    "        X_week = np.concatenate((X_week, X[i:-(N_prev_days+1-i)][:,np.newaxis]), axis =1)\n",
    "    i = N_prev_days-1\n",
    "    X_week = np.concatenate((X_week, X[i:-2][:,np.newaxis]), axis =1)\n",
    "\n",
    "    X = X_week[:,:7]\n",
    "    Y = X_week[:,7]\n",
    "    \n",
    "    #Rescale X, Y\n",
    "    scale_factor =  10000\n",
    "    X = X /scale_factor\n",
    "    Y = Y/scale_factor\n",
    "\n",
    "    # One month for model initialization\n",
    "    days_init = 90\n",
    "    X_init = torch.Tensor(X[:days_init])\n",
    "    y_init = torch.Tensor(Y[:days_init]) \n",
    "    X_t = torch.Tensor(X[days_init:-1])\n",
    "    y_t = torch.Tensor(Y[days_init:-1])\n",
    "\n",
    "    return X_init, y_init, X_t, y_t "
   ]
  },
  {
   "cell_type": "code",
   "execution_count": 4,
   "metadata": {},
   "outputs": [],
   "source": [
    "def generate_data2():\n",
    "    #https://www.kaggle.com/code/ryanholbrook/linear-regression-with-time-series/data?select=train.csv\n",
    "    store_sales = pd.read_csv(\n",
    "         '../data/StoreSales.csv',\n",
    "        usecols=['store_nbr', 'family', 'date', 'sales', 'onpromotion'],\n",
    "        dtype={\n",
    "            'store_nbr': 'category',\n",
    "            'family': 'category',\n",
    "            'sales': 'float32',\n",
    "            'onpromotion': 'uint32',\n",
    "        },\n",
    "        parse_dates=['date']\n",
    "    )\n",
    "    store_sales['date'] = store_sales.date.dt.to_period('D')\n",
    "    store_sales = store_sales.set_index(['store_nbr', 'family', 'date']).sort_index()\n",
    "\n",
    "    family_sales = (\n",
    "    store_sales\n",
    "    .groupby(['date'])\n",
    "    .mean()\n",
    "    )\n",
    "\n",
    "    X = family_sales['sales'].values\n",
    "    #outliers\n",
    "    pos = np.array([   0,  364,  728, 1092, 1457])\n",
    "    X[pos] = X[pos-1]\n",
    "    \n",
    "    N_prev_days = 8\n",
    "    X_week = X[:-(N_prev_days+1)][:,np.newaxis]\n",
    "    for i in range(1,N_prev_days-1):\n",
    "        X_week = np.concatenate((X_week, X[i:-(N_prev_days+1-i)][:,np.newaxis]), axis =1)\n",
    "    i = N_prev_days-1\n",
    "    X_week = np.concatenate((X_week, X[i:-2][:,np.newaxis]), axis =1)\n",
    "\n",
    "    X = X_week[:,:7]\n",
    "    Y = X_week[:,7]\n",
    "    \n",
    "    #Rescale X, Y\n",
    "    scale_factor =  np.std(X)\n",
    "    X = X /scale_factor\n",
    "    Y = Y/scale_factor\n",
    "\n",
    "    # One month for model initialization\n",
    "    days_init = 90\n",
    "    X_init = torch.Tensor(X[:days_init])\n",
    "    y_init = torch.Tensor(Y[:days_init]) \n",
    "    X_t = torch.Tensor(X[days_init:-1])\n",
    "    y_t = torch.Tensor(Y[days_init:-1])\n",
    "\n",
    "    return X_init, y_init, X_t, y_t \n",
    "\n"
   ]
  },
  {
   "cell_type": "code",
   "execution_count": 5,
   "metadata": {},
   "outputs": [],
   "source": [
    "def generate_data(num):\n",
    "    if num == -1:\n",
    "        name = 'OR'\n",
    "        X_init, y_init, X_t, y_t  = generate_data1()\n",
    "    elif num == 0:\n",
    "        name = 'SS'\n",
    "        X_init, y_init, X_t, y_t  = generate_data2()\n",
    "    return name, X_init, y_init, X_t, y_t "
   ]
  },
  {
   "cell_type": "code",
   "execution_count": 6,
   "metadata": {
    "colab": {
     "base_uri": "https://localhost:8080/"
    },
    "executionInfo": {
     "elapsed": 3534,
     "status": "ok",
     "timestamp": 1662491152162,
     "user": {
      "displayName": "VANESSA GOMEZ VERDEJO",
      "userId": "10847227554119461925"
     },
     "user_tz": -120
    },
    "id": "imuERYelkIrS",
    "outputId": "a827ee0c-3df7-436b-fdc5-4101fe9a7b10"
   },
   "outputs": [],
   "source": [
    "num=0\n",
    "name, X_init, y_init, X_t, y_t  = generate_data(num)"
   ]
  },
  {
   "cell_type": "code",
   "execution_count": 7,
   "metadata": {},
   "outputs": [
    {
     "data": {
      "text/plain": [
       "[<matplotlib.lines.Line2D at 0x1397981c0>]"
      ]
     },
     "execution_count": 7,
     "metadata": {},
     "output_type": "execute_result"
    },
    {
     "data": {
      "image/png": "[encoded data removed]",
      "text/plain": [
       "<Figure size 1152x288 with 1 Axes>"
      ]
     },
     "metadata": {
      "needs_background": "light"
     },
     "output_type": "display_data"
    }
   ],
   "source": [
    "fig = plt.figure(figsize=(16,4))\n",
    "plt.plot(X_t[:,0])\n"
   ]
  },
  {
   "cell_type": "markdown",
   "metadata": {
    "id": "v13BoR-fBVWV"
   },
   "source": [
    "# Persistence Baseline\n",
    "\n",
    "We predict the next day load with the load of the input day at the same time"
   ]
  },
  {
   "cell_type": "code",
   "execution_count": 8,
   "metadata": {},
   "outputs": [
    {
     "name": "stdout",
     "output_type": "stream",
     "text": [
      "Persistence BASELINE\n"
     ]
    }
   ],
   "source": [
    "print('Persistence BASELINE')"
   ]
  },
  {
   "cell_type": "code",
   "execution_count": 9,
   "metadata": {
    "colab": {
     "base_uri": "https://localhost:8080/"
    },
    "executionInfo": {
     "elapsed": 1338,
     "status": "ok",
     "timestamp": 1662104706889,
     "user": {
      "displayName": "VANESSA GOMEZ VERDEJO",
      "userId": "10847227554119461925"
     },
     "user_tz": -120
    },
    "id": "uA4E0tRjBTck",
    "outputId": "adf248c1-fb74-45e6-99ba-6605cf8c9cbf"
   },
   "outputs": [],
   "source": [
    "for num in [-1,0]:\n",
    "    \n",
    "    name, X_init, y_init, X_t, y_t = generate_data(num)\n",
    "\n",
    "    y_pred = X_t[:,-1]\n",
    "    mean_pred_baseline1 = y_pred\n",
    "    MSE_baseline1 = (y_pred-y_t)**2\n",
    "\n",
    "    data = {'mse':MSE_baseline1,\n",
    "            'mean':y_pred}\n",
    "\n",
    "    with open('../results_review2/'+name+'_Persistence.pickle', 'wb') as handle:\n",
    "      pickle.dump(data, handle, protocol=pickle.HIGHEST_PROTOCOL)\n"
   ]
  },
  {
   "cell_type": "markdown",
   "metadata": {
    "id": "GwcD3jOgsg9d"
   },
   "source": [
    "# ADAPTIVE MODELS"
   ]
  },
  {
   "cell_type": "code",
   "execution_count": 10,
   "metadata": {
    "colab": {
     "base_uri": "https://localhost:8080/"
    },
    "executionInfo": {
     "elapsed": 11,
     "status": "ok",
     "timestamp": 1662104504649,
     "user": {
      "displayName": "VANESSA GOMEZ VERDEJO",
      "userId": "10847227554119461925"
     },
     "user_tz": -120
    },
    "id": "lEcqm3YvVnzK",
    "outputId": "fc371031-bcb7-46a8-e1d5-7ac2888edea5"
   },
   "outputs": [],
   "source": [
    "%load_ext autoreload\n",
    "%autoreload 2"
   ]
  },
  {
   "cell_type": "code",
   "execution_count": 11,
   "metadata": {
    "colab": {
     "base_uri": "https://localhost:8080/"
    },
    "executionInfo": {
     "elapsed": 1894,
     "status": "ok",
     "timestamp": 1662104515136,
     "user": {
      "displayName": "VANESSA GOMEZ VERDEJO",
      "userId": "10847227554119461925"
     },
     "user_tz": -120
    },
    "id": "ZM3q3z8OzDoU",
    "outputId": "fcdae3fc-867d-4b08-cc7f-1875315b2c94"
   },
   "outputs": [],
   "source": [
    "import os\n",
    "import sys\n",
    "import inspect\n",
    "\n",
    "parentdir = \"../lib/\"\n",
    "sys.path.insert(0, parentdir) \n",
    "\n",
    "from AdaptiveSparseGPRegression import AdaptiveSparseGPRegression "
   ]
  },
  {
   "cell_type": "markdown",
   "metadata": {
    "id": "73kfokQJuTyF"
   },
   "source": [
    "## Fast-AGP: Adaptive SVGP without inference\n",
    "\n",
    "Model parameters are NOT updated (only inducing points)"
   ]
  },
  {
   "cell_type": "code",
   "execution_count": 12,
   "metadata": {},
   "outputs": [
    {
     "name": "stdout",
     "output_type": "stream",
     "text": [
      "Fast-AGP: Adaptive SVGP without inference\n"
     ]
    }
   ],
   "source": [
    "print('Fast-AGP: Adaptive SVGP without inference')"
   ]
  },
  {
   "cell_type": "code",
   "execution_count": 17,
   "metadata": {
    "colab": {
     "base_uri": "https://localhost:8080/"
    },
    "executionInfo": {
     "elapsed": 133011,
     "status": "ok",
     "timestamp": 1662104684035,
     "user": {
      "displayName": "VANESSA GOMEZ VERDEJO",
      "userId": "10847227554119461925"
     },
     "user_tz": -120
    },
    "id": "jjNAzVVSyzfn",
    "outputId": "c5ee49d3-19fa-4098-d8a4-dc72fbcdb380"
   },
   "outputs": [
    {
     "name": "stdout",
     "output_type": "stream",
     "text": [
      "-1\n",
      "0\n"
     ]
    }
   ],
   "source": [
    "for num in [-1,0]:\n",
    "    print(num)\n",
    "    \n",
    "    mse_pred_iter = []\n",
    "    mean_pred_iter = []\n",
    "    std_pred_iter = []\n",
    "    IC_95_iter = []\n",
    "    n_inducing_iter = []\n",
    "    train_time_iter = []\n",
    "    test_time_iter =[]\n",
    "\n",
    "    name, X_init, y_init, X_t, y_t = generate_data(num)\n",
    "\n",
    "\n",
    "    # initialize pyro\n",
    "    pyro.clear_param_store()\n",
    "\n",
    "    # initialize the inducing inputs with the last training samples \n",
    "    inducing_points = X_init[-2*M::2,:]\n",
    "    Xu = torch.Tensor(copy.copy(inducing_points))\n",
    "\n",
    "    # initialize the kernel\n",
    "    kernel = gp.kernels.RBF(input_dim=X_init.shape[1]) \n",
    "\n",
    "    ###################################\n",
    "    # Define the model\n",
    "    osgpr = AdaptiveSparseGPRegression(X_init, y_init, kernel, Xu=Xu, lamb =lamb_, jitter=1.0e-4)\n",
    "    # Initialize the model\n",
    "    osgpr.batch_update(num_steps = num_steps_init)\n",
    "    ####################################   \n",
    "\n",
    "    mse_pred = []\n",
    "    mean_pred = []\n",
    "    std_pred = []\n",
    "    IC_95 = []\n",
    "    n_inducing =[] \n",
    "    test_time = 0\n",
    "    train_time = 0\n",
    "\n",
    "    n_inducing = [osgpr.Xu.shape[0]]\n",
    "\n",
    "    for t, (x, y) in enumerate(zip(X_t, y_t)):\n",
    "\n",
    "      X_new = X_t[t:t+1]\n",
    "      y_new = y_t[t:t+1]\n",
    "\n",
    "      start = time.process_time()\n",
    "      # Compute test error predicting next sample\n",
    "      with torch.no_grad():\n",
    "        pred, cov = osgpr(X_new, noiseless=False)\n",
    "      test_time += (time.process_time()-start) \n",
    "\n",
    "      mean_pred.append(pred.numpy())\n",
    "\n",
    "      mse = (pred-y_new)**2\n",
    "      mse_pred.append(mse.numpy())\n",
    "\n",
    "      std = torch.sqrt(cov)\n",
    "      std_pred.append(std.numpy())\n",
    "      IC_95.append((torch.abs(y_new-pred)<2*std).numpy())\n",
    "\n",
    "      #####################################\n",
    "      # Update model\n",
    "      start = time.process_time()\n",
    "      loss = osgpr.fast_online_update(X_new, y_new, L = T, M = M, perc_th = 1e-4)\n",
    "      train_time += (time.process_time()-start) \n",
    "      ######################################\n",
    "      n_inducing.append(osgpr.Xu.shape[0])\n",
    "\n",
    "    # Save variables\n",
    "    mse_pred_iter.append(mse_pred)\n",
    "    std_pred_iter.append(std_pred)\n",
    "    mean_pred_iter.append(mean_pred)\n",
    "    IC_95_iter.append(IC_95)\n",
    "    n_inducing_iter.append(n_inducing)\n",
    "    train_time_iter.append(train_time)\n",
    "    test_time_iter.append(test_time)\n",
    "\n",
    "    data = {'mse':mse_pred_iter,\n",
    "        'std':std_pred_iter,\n",
    "        'mean':mean_pred_iter,\n",
    "        'IC_95':IC_95_iter,\n",
    "        'n_inducing':n_inducing_iter,\n",
    "        'train_time':train_time_iter,\n",
    "        'test_time':test_time_iter}\n",
    "   \n",
    "    with open('../results/'+name+'_Fast-AGP.pickle', 'wb') as handle:\n",
    "      pickle.dump(data, handle, protocol=pickle.HIGHEST_PROTOCOL)"
   ]
  },
  {
   "cell_type": "markdown",
   "metadata": {
    "id": "NQ8iy7sLGtOp"
   },
   "source": [
    "## AGP: Adaptive SVGP with inference\n",
    "\n",
    "We apply inference over all model parameters"
   ]
  },
  {
   "cell_type": "code",
   "execution_count": 17,
   "metadata": {},
   "outputs": [
    {
     "name": "stdout",
     "output_type": "stream",
     "text": [
      "AGP: Adaptive SVGP with inference\n"
     ]
    }
   ],
   "source": [
    "print('AGP: Adaptive SVGP with inference')"
   ]
  },
  {
   "cell_type": "code",
   "execution_count": 20,
   "metadata": {
    "colab": {
     "base_uri": "https://localhost:8080/"
    },
    "executionInfo": {
     "elapsed": 506987,
     "status": "ok",
     "timestamp": 1662105256034,
     "user": {
      "displayName": "VANESSA GOMEZ VERDEJO",
      "userId": "10847227554119461925"
     },
     "user_tz": -120
    },
    "id": "90oZJNz2_IF8",
    "outputId": "73bec82c-5731-4e03-9f49-d2699fc1ee40"
   },
   "outputs": [
    {
     "name": "stdout",
     "output_type": "stream",
     "text": [
      "-1\n",
      "0\n"
     ]
    }
   ],
   "source": [
    "for num in [-1,0]:\n",
    "    print(num)\n",
    "    name, X_init, y_init, X_t, y_t = generate_data(num)\n",
    "\n",
    "    mse_pred_iter = []\n",
    "    std_pred_iter = []\n",
    "    mean_pred_iter = []\n",
    "    IC_95_iter = []\n",
    "    n_inducing_iter = []\n",
    "    train_time_iter = []\n",
    "    test_time_iter =[]\n",
    "\n",
    "   \n",
    "    # initialize the kernel and model\n",
    "    pyro.clear_param_store()\n",
    "    kernel = gp.kernels.RBF(input_dim=X_init.shape[1])\n",
    "\n",
    "    # initialize the inducing inputs in interval [0,1] \n",
    "    inducing_points = X_init[-2*M::2,:]\n",
    "    Xu = torch.Tensor(copy.copy(inducing_points))\n",
    "\n",
    "    ###################################\n",
    "    # Define the model\n",
    "    osgpr = AdaptiveSparseGPRegression(X_init, y_init, kernel, Xu=Xu, lamb =lamb_, jitter=1.0e-4)\n",
    "    # Initialize the model\n",
    "    osgpr.batch_update(num_steps = num_steps_init)\n",
    "    ####################################   \n",
    "\n",
    "\n",
    "    mse_pred = []\n",
    "    std_pred = []\n",
    "    mean_pred = []\n",
    "    IC_95 = []\n",
    "    n_inducing =[]\n",
    "    test_time = 0\n",
    "    train_time = 0\n",
    "\n",
    "    variances=[osgpr.kernel.variance.item()]\n",
    "    noises=[osgpr.noise.item()]\n",
    "    lengthscales = [osgpr.kernel.lengthscale.item()]\n",
    "    n_inducing = [osgpr.Xu.shape[0]]\n",
    "\n",
    "    for t, (x, y) in enumerate(zip(X_t, y_t)):\n",
    "\n",
    "      X_new = X_t[t:t+1]\n",
    "      y_new = y_t[t:t+1]\n",
    "\n",
    "      start = time.process_time()\n",
    "      # Compute test error predicting next sample\n",
    "      with torch.no_grad():\n",
    "        pred, cov = osgpr(X_new, noiseless=False)\n",
    "      test_time += (time.process_time()-start) \n",
    "\n",
    "      mean_pred.append(pred.numpy())\n",
    "\n",
    "      mse = (pred-y_new)**2\n",
    "      mse_pred.append(mse.numpy())\n",
    "\n",
    "      std = torch.sqrt(cov)\n",
    "      std_pred.append(std.numpy())\n",
    "      IC_95.append((torch.abs(y_new-pred)<2*std).numpy())\n",
    "    \n",
    "      #####################################\n",
    "      # Update model\n",
    "      start = time.process_time()\n",
    "      loss = osgpr.online_update(X_new, y_new, L = T, M = M, num_steps = num_steps_online, perc_th = 1e-4)\n",
    "      train_time += (time.process_time()-start) \n",
    "      ######################################\n",
    "    \n",
    "      variances.append(osgpr.kernel.variance.item())\n",
    "      noises.append(osgpr.noise.item())\n",
    "      lengthscales.append(osgpr.kernel.lengthscale.item())\n",
    "      n_inducing.append(osgpr.Xu.shape[0])\n",
    "\n",
    "\n",
    "    # Save variables\n",
    "    mse_pred_iter.append(mse_pred)\n",
    "    mean_pred_iter.append(mean_pred)\n",
    "    std_pred_iter.append(std_pred)\n",
    "    IC_95_iter.append(IC_95)\n",
    "    n_inducing_iter.append(n_inducing)\n",
    "    train_time_iter.append(train_time)\n",
    "    test_time_iter.append(test_time)\n",
    "\n",
    "    data = {'mse':mse_pred_iter,\n",
    "        'std':std_pred_iter,\n",
    "        'mean':mean_pred_iter,\n",
    "        'IC_95':IC_95_iter,\n",
    "        'n_inducing':n_inducing_iter,\n",
    "        'train_time':train_time_iter,\n",
    "        'test_time':test_time_iter}\n",
    "\n",
    "\n",
    "    with open('../results/'+name+'_AGP.pickle', 'wb') as handle:\n",
    "        pickle.dump(data, handle, protocol=pickle.HIGHEST_PROTOCOL)"
   ]
  },
  {
   "cell_type": "markdown",
   "metadata": {
    "id": "GR8bXp3CuHHS"
   },
   "source": [
    "## Adaptive VSGP with VSI"
   ]
  },
  {
   "cell_type": "code",
   "execution_count": 19,
   "metadata": {},
   "outputs": [
    {
     "name": "stdout",
     "output_type": "stream",
     "text": [
      "AGP-VSI: Adaptive VSGP with VSI\n"
     ]
    }
   ],
   "source": [
    "print('AGP-VSI: Adaptive VSGP with VSI')"
   ]
  },
  {
   "cell_type": "code",
   "execution_count": 20,
   "metadata": {
    "colab": {
     "base_uri": "https://localhost:8080/"
    },
    "executionInfo": {
     "elapsed": 694,
     "status": "ok",
     "timestamp": 1662114101511,
     "user": {
      "displayName": "VANESSA GOMEZ VERDEJO",
      "userId": "10847227554119461925"
     },
     "user_tz": -120
    },
    "id": "ug-Gw9RqRLKX",
    "outputId": "ef7cc69e-4ecd-4d6e-ffe7-9daa189e079f"
   },
   "outputs": [],
   "source": [
    "from AdaptiveELBO import adaptive_elbo"
   ]
  },
  {
   "cell_type": "code",
   "execution_count": 21,
   "metadata": {
    "colab": {
     "base_uri": "https://localhost:8080/"
    },
    "executionInfo": {
     "elapsed": 6283462,
     "status": "ok",
     "timestamp": 1662122637932,
     "user": {
      "displayName": "VANESSA GOMEZ VERDEJO",
      "userId": "10847227554119461925"
     },
     "user_tz": -120
    },
    "id": "4sfuCF3w29hM",
    "outputId": "5e334ca0-35b9-47a3-f019-d71c43871c60"
   },
   "outputs": [
    {
     "name": "stdout",
     "output_type": "stream",
     "text": [
      "-1\n",
      "0\n"
     ]
    }
   ],
   "source": [
    "for num in [-1,0]:\n",
    "    print(num)\n",
    "    name, X_init, y_init, X_t, y_t = generate_data(num)\n",
    "    \n",
    "    mse_pred_iter = []\n",
    "    mean_pred_iter = []\n",
    "    std_pred_iter = []\n",
    "    IC_95_iter = []\n",
    "    train_time_iter = []\n",
    "    test_time_iter =[]\n",
    "\n",
    "\n",
    "    # initialize the kernel and model\n",
    "    pyro.clear_param_store()\n",
    "    kernel = gp.kernels.RBF(input_dim=X_init.shape[1], variance=torch.tensor(1.0), lengthscale=torch.tensor(1.))\n",
    "\n",
    "    # initialize the inducing inputs in interval [0,1] \n",
    "    #inducing_points = X_init[M:,:]\n",
    "    inducing_points = X_init[-2*M::2,:]\n",
    "    Xu = torch.Tensor(copy.copy(inducing_points))\n",
    "\n",
    "    likelihood = gp.likelihoods.Gaussian()\n",
    "\n",
    "    forget_factor =  torch.flip(torch.cumprod(lamb_*torch.ones_like(y_init), dim=0), [0])\n",
    "    forget_factor = torch.cat((forget_factor[1:],torch.tensor([1.0])))\n",
    "\n",
    "    # turn on \"whiten\" flag for more stable optimization\n",
    "    vsgp = gp.models.VariationalSparseGP(\n",
    "      X_init, y_init, kernel, Xu=Xu, likelihood=likelihood, whiten=True, jitter=1e-3\n",
    "    )\n",
    "\n",
    "    optimizer = torch.optim.Adam(vsgp.parameters(), lr=0.05)\n",
    "    loss_fn = adaptive_elbo\n",
    "\n",
    "    for i in range(num_steps_init):\n",
    "      optimizer.zero_grad()\n",
    "      loss = loss_fn(vsgp.model, vsgp.guide, forget_factor)\n",
    "      loss.backward()\n",
    "      optimizer.step()\n",
    "\n",
    "    mse_pred = []\n",
    "    mean_pred = []\n",
    "    std_pred = []\n",
    "    IC_95 = []\n",
    "    test_time = 0\n",
    "    train_time = 0\n",
    "\n",
    "\n",
    "    X_window = X_init\n",
    "    y_window = y_init \n",
    "\n",
    "    for t, (x, y) in enumerate(zip(X_t, y_t)):\n",
    "\n",
    "      X_new = X_t[t:t+1]\n",
    "      y_new = y_t[t:t+1]\n",
    "\n",
    "      start = time.process_time()\n",
    "      # Compute test error predicting next sample\n",
    "      with torch.no_grad():\n",
    "        pred, cov = vsgp(X_new)\n",
    "      test_time += (time.process_time()-start) \n",
    "\n",
    "      mean_pred.append(pred.numpy())\n",
    "\n",
    "      mse = (pred-y_new)**2\n",
    "      mse_pred.append(mse.numpy())\n",
    "\n",
    "      cov = cov + vsgp.likelihood.variance\n",
    "      std = torch.sqrt(cov)\n",
    "      std_pred.append(std.detach().numpy())\n",
    "      IC_95.append((torch.abs(y_new-pred)<2*std).numpy())\n",
    "\n",
    "      start = time.process_time()\n",
    "      # Update model with new data\n",
    "      X_window = torch.cat((X_window[1:], X_new))\n",
    "      y_window = torch.cat((y_window[1:], y_new))\n",
    "\n",
    "      forget_factor = torch.cat((lamb_*forget_factor[1:],torch.tensor([1.0]))) \n",
    "\n",
    "      vsgp.set_data(X_window, y_window)\n",
    "\n",
    "      for i in range(50*num_steps_online):\n",
    "          optimizer.zero_grad()\n",
    "          loss = loss_fn(vsgp.model, vsgp.guide, forget_factor)\n",
    "          loss.backward()\n",
    "          optimizer.step()\n",
    "      train_time += (time.process_time()-start) \n",
    "\n",
    "\n",
    "      # Save variables\n",
    "      mse_pred_iter.append(mse_pred)\n",
    "      std_pred_iter.append(std_pred)\n",
    "      mean_pred_iter.append(mean_pred)\n",
    "      IC_95_iter.append(IC_95)\n",
    "      train_time_iter.append(train_time)\n",
    "      test_time_iter.append(test_time)\n",
    "\n",
    "    data = {'mse':mse_pred_iter,\n",
    "        'std':std_pred_iter,\n",
    "        'mean':mean_pred_iter,\n",
    "        'IC_95':IC_95_iter,\n",
    "        'train_time':train_time_iter,\n",
    "        'test_time':test_time_iter}\n",
    "\n",
    "    with open('../results/'+name+'_AGP-VSI.pickle', 'wb') as handle:\n",
    "      pickle.dump(data, handle, protocol=pickle.HIGHEST_PROTOCOL)"
   ]
  },
  {
   "cell_type": "markdown",
   "metadata": {
    "id": "BPxxMpc2F1Db"
   },
   "source": [
    "# BASELINES"
   ]
  },
  {
   "cell_type": "markdown",
   "metadata": {
    "id": "MRsOPU6HF1Dc"
   },
   "source": [
    "## Training a GP per iteration with a sliding data window"
   ]
  },
  {
   "cell_type": "code",
   "execution_count": 22,
   "metadata": {},
   "outputs": [
    {
     "name": "stdout",
     "output_type": "stream",
     "text": [
      "w-SVGP: A windowed SVGP\n"
     ]
    }
   ],
   "source": [
    "print('w-SVGP: A windowed SVGP')"
   ]
  },
  {
   "cell_type": "code",
   "execution_count": 23,
   "metadata": {
    "colab": {
     "base_uri": "https://localhost:8080/"
    },
    "executionInfo": {
     "elapsed": 6466938,
     "status": "ok",
     "timestamp": 1662111835478,
     "user": {
      "displayName": "VANESSA GOMEZ VERDEJO",
      "userId": "10847227554119461925"
     },
     "user_tz": -120
    },
    "id": "_pEvQURrPk3T",
    "outputId": "76eb8a16-d00b-422e-8bd9-7e95981d746c"
   },
   "outputs": [
    {
     "name": "stdout",
     "output_type": "stream",
     "text": [
      "-1\n",
      "0\n"
     ]
    }
   ],
   "source": [
    "for num in [-1,0]:\n",
    "    print(num)\n",
    "    name, X_init, y_init, X_t, y_t = generate_data(num)\n",
    "    \n",
    "    mse_pred_iter = []\n",
    "    mean_pred_iter = []\n",
    "    std_pred_iter = []\n",
    "    IC_95_iter = []\n",
    "    train_time_iter = []\n",
    "    test_time_iter =[]\n",
    "\n",
    "    # initialize the inducing inputs in interval [0,1] \n",
    "    inducing_points = X_init[-2*M::2,:]\n",
    "    Xu = torch.Tensor(copy.copy(inducing_points))\n",
    "\n",
    "    # initialize the kernel, likelihood, and model\n",
    "    pyro.clear_param_store()\n",
    "    kernel = gp.kernels.RBF(input_dim=X_init.shape[1])\n",
    "\n",
    "    likelihood = gp.likelihoods.Gaussian()\n",
    "    # turn on \"whiten\" flag for more stable optimization\n",
    "    vsgp = gp.models.VariationalSparseGP(\n",
    "      X_init, y_init, kernel, Xu=Xu, likelihood=likelihood, whiten=True, jitter=1e-3\n",
    "    )\n",
    "\n",
    "    # Train the first model\n",
    "    optimizer = torch.optim.Adam(vsgp.parameters(), lr=0.05)\n",
    "    loss_fn = pyro.infer.Trace_ELBO().differentiable_loss\n",
    "\n",
    "    for i in range(num_steps_init):\n",
    "      optimizer.zero_grad()\n",
    "      loss = loss_fn(vsgp.model, vsgp.guide)\n",
    "      loss.backward()\n",
    "      optimizer.step()\n",
    "\n",
    "    mse_pred = []\n",
    "    mean_pred = []\n",
    "    std_pred = []\n",
    "    IC_95 = []\n",
    "    test_time = 0\n",
    "    train_time = 0\n",
    "\n",
    "\n",
    "    X_window = X_init\n",
    "    y_window = y_init \n",
    "\n",
    "    for t, (x, y) in enumerate(zip(X_t, y_t)):\n",
    "\n",
    "      X_new = X_t[t:t+1]\n",
    "      y_new = y_t[t:t+1]\n",
    "\n",
    "      start = time.process_time()\n",
    "      # Compute test error predicting next sample\n",
    "      with torch.no_grad():\n",
    "        pred, cov = vsgp(X_new)\n",
    "      test_time += (time.process_time()-start) \n",
    "\n",
    "      mean_pred.append(pred.numpy())\n",
    "\n",
    "      mse = (pred-y_new)**2\n",
    "      mse_pred.append(mse.numpy())\n",
    "\n",
    "      cov = cov + vsgp.likelihood.variance\n",
    "      std = torch.sqrt(cov)\n",
    "      std_pred.append(std.detach().numpy())\n",
    "      IC_95.append((torch.abs(y_new-pred)<2*std).numpy())\n",
    "\n",
    "      start = time.process_time()\n",
    "      # Update model with new data\n",
    "      X_window = torch.cat((X_window[1:], X_new))\n",
    "      y_window = torch.cat((y_window[1:], y_new))\n",
    "\n",
    "      vsgp.set_data(X_window, y_window)\n",
    "\n",
    "      for i in range(50*num_steps_online):\n",
    "          optimizer.zero_grad()\n",
    "          loss = loss_fn(vsgp.model, vsgp.guide)\n",
    "          loss.backward()\n",
    "          optimizer.step()\n",
    "      train_time += (time.process_time()-start) \n",
    "\n",
    "      # Save variables\n",
    "      mse_pred_iter.append(mse_pred)\n",
    "      std_pred_iter.append(std_pred)\n",
    "      mean_pred_iter.append(mean_pred)\n",
    "      IC_95_iter.append(IC_95)\n",
    "      train_time_iter.append(train_time)\n",
    "      test_time_iter.append(test_time)\n",
    "\n",
    "    data = {'mse':mse_pred_iter,\n",
    "        'std':std_pred_iter,\n",
    "        'mean':mean_pred_iter,\n",
    "        'IC_95':IC_95_iter,\n",
    "        'train_time':train_time_iter,\n",
    "        'test_time':test_time_iter}\n",
    "\n",
    "    with open('../results/'+name+'_w-SVGP.pickle', 'wb') as handle:\n",
    "      pickle.dump(data, handle, protocol=pickle.HIGHEST_PROTOCOL)"
   ]
  },
  {
   "cell_type": "markdown",
   "metadata": {
    "id": "8PGrIU1oF1Dc"
   },
   "source": [
    "## Online SGP\n",
    "\n",
    "This is the model proposed in:\n",
    "\n",
    "https://arxiv.org/pdf/1705.07131.pdf\n",
    "\n",
    "https://github.com/thangbui/streaming_sparse_gp/blob/b46e6e4a9257937f7ca26ac06099f5365c8b50d8/code/osgpr.py\n",
    "\n",
    "But here, we used the pythorch iomplementation included in\n",
    "\n",
    "https://github.com/wjmaddox/online_gp\n",
    "\n"
   ]
  },
  {
   "cell_type": "code",
   "execution_count": 24,
   "metadata": {
    "colab": {
     "base_uri": "https://localhost:8080/"
    },
    "executionInfo": {
     "elapsed": 15531,
     "status": "ok",
     "timestamp": 1662113296725,
     "user": {
      "displayName": "VANESSA GOMEZ VERDEJO",
      "userId": "10847227554119461925"
     },
     "user_tz": -120
    },
    "id": "KgX9P3g03vdy",
    "outputId": "ab9d3994-ea4b-41fe-9ec4-28d43be1fd0d"
   },
   "outputs": [],
   "source": [
    "import sys\n",
    "sys.path.append('../experiments/regression/')\n",
    "\n",
    "sys.path.append('/export/usuarios01/vanessa/online_gp/')\n",
    "\n",
    "from copy import deepcopy\n",
    "\n",
    "import math\n",
    "\n",
    "import gpytorch\n",
    "from gpytorch import mlls\n",
    "from online_gp import models\n",
    "\n"
   ]
  },
  {
   "cell_type": "code",
   "execution_count": 25,
   "metadata": {},
   "outputs": [
    {
     "name": "stdout",
     "output_type": "stream",
     "text": [
      "OSGP: Online SGP \n"
     ]
    }
   ],
   "source": [
    "print('OSGP: Online SGP ')"
   ]
  },
  {
   "cell_type": "code",
   "execution_count": null,
   "metadata": {
    "colab": {
     "base_uri": "https://localhost:8080/"
    },
    "executionInfo": {
     "elapsed": 512703,
     "status": "ok",
     "timestamp": 1662113809421,
     "user": {
      "displayName": "VANESSA GOMEZ VERDEJO",
      "userId": "10847227554119461925"
     },
     "user_tz": -120
    },
    "id": "ju_ZlLEuJfCd",
    "outputId": "0061d45d-0e21-4f3a-84af-8c027084fc8d"
   },
   "outputs": [],
   "source": [
    "for num in [-1,0]:\n",
    "    print(num)\n",
    "    name, X_init, y_init, X_t, y_t = generate_data(num)\n",
    "    \n",
    "    mse_pred_iter = []\n",
    "    mean_pred_iter = []\n",
    "    std_pred_iter = []\n",
    "    IC_95_iter = []\n",
    "    train_time_iter = []\n",
    "    test_time_iter =[]\n",
    "\n",
    "    # initialize pyro\n",
    "    pyro.clear_param_store()\n",
    "\n",
    "    init_x= X_init\n",
    "    init_y= y_init[:,None]\n",
    "    X = X_t\n",
    "    Y = y_t[:,None]\n",
    "\n",
    "    # Initialize the model\n",
    "    covar_module = gpytorch.kernels.ScaleKernel(gpytorch.kernels.RBFKernel())\n",
    "\n",
    "    # initialize the inducing inputs with the last training samples \n",
    "    inducing_points =copy.copy(init_x[-2*M::2,:])\n",
    "\n",
    "    osgpr_model = models.StreamingSGPR(inducing_points, learn_inducing_locations=True, \n",
    "                                covar_module=covar_module, num_data=init_x.size(0), jitter=1e-3)\n",
    "\n",
    "    # Training a initial GP as starting point\n",
    "\n",
    "    elbo = mlls.VariationalELBO(osgpr_model.likelihood, osgpr_model, num_data=init_x.size(0))\n",
    "    mll = mlls.ExactMarginalLogLikelihood(osgpr_model.likelihood, osgpr_model)\n",
    "    trainable_params = [\n",
    "    dict(params=osgpr_model.likelihood.parameters(), lr=1e-1),\n",
    "    dict(params=osgpr_model.covar_module.parameters(), lr=1e-1),\n",
    "    dict(params=osgpr_model.variational_strategy.inducing_points, lr=1e-2),\n",
    "    dict(params=osgpr_model.variational_strategy._variational_distribution.parameters(), lr=1e-2)\n",
    "    ]\n",
    "    optimizer = torch.optim.Adam(trainable_params)\n",
    "    lr_scheduler = torch.optim.lr_scheduler.CosineAnnealingLR(optimizer, 400, 1e-4)\n",
    "\n",
    "    osgpr_model.train()\n",
    "    records = []\n",
    "    for i in range(num_steps_init):\n",
    "        optimizer.zero_grad()\n",
    "        train_dist = osgpr_model(init_x)\n",
    "        loss = -elbo(train_dist, init_y.squeeze(-1)).sum()\n",
    "        loss.backward()\n",
    "        optimizer.step()\n",
    "        lr_scheduler.step()\n",
    "\n",
    "    osgpr_model.eval()\n",
    "    osgpr_model = osgpr_model.get_fantasy_model(init_x, init_y, resample_ratio=0)\n",
    "\n",
    "    mse_pred = []\n",
    "    mean_pred = []\n",
    "    std_pred = []\n",
    "    IC_95 = []\n",
    "    test_time = 0\n",
    "    train_time = 0\n",
    "\n",
    "    chunk_size = T\n",
    "\n",
    "    for t, (x, y) in enumerate(zip(X, Y)):\n",
    "\n",
    "        X_new =  X[t:t+1]\n",
    "        y_new = Y[t:t+1]\n",
    "\n",
    "        # Compute test error predicting next sample\n",
    "        start = time.process_time()  \n",
    "        with torch.no_grad():\n",
    "            pred, cov = osgpr_model.predict(X_new)\n",
    "        test_time += (time.process_time()-start) \n",
    "\n",
    "        mean_pred.append(pred.numpy())\n",
    "\n",
    "        mse = (pred-y_new)**2\n",
    "        mse_pred.append(mse.numpy())\n",
    "\n",
    "        std = torch.sqrt(cov)\n",
    "        std_pred.append(std.detach().numpy())\n",
    "        IC_95.append((torch.abs(y_new-pred)<2*std).numpy())\n",
    "\n",
    "        start = time.process_time()\n",
    "        elbo = models.StreamingSGPRBound(osgpr_model)\n",
    "        trainable_params = [\n",
    "          dict(params=osgpr_model.likelihood.parameters(), lr=1e-1),\n",
    "          dict(params=osgpr_model.covar_module.parameters(), lr=1e-1),\n",
    "          dict(params=osgpr_model.variational_strategy.inducing_points, lr=1e-2),\n",
    "        ]\n",
    "        optimizer = torch.optim.Adam(trainable_params)\n",
    "\n",
    "        for _ in range(num_steps_online):\n",
    "            optimizer.zero_grad()\n",
    "            loss = -elbo(x.view(-1, 1).T, y.view(-1, 1))\n",
    "            loss.backward()\n",
    "            optimizer.step()\n",
    "\n",
    "        osgpr_model = osgpr_model.get_fantasy_model(x.view(-1, 1).T, y.view(-1, 1), resample_ratio=0)\n",
    "        train_time += (time.process_time()-start) \n",
    "\n",
    "    # Save variables\n",
    "    mse_pred_iter.append(mse_pred)\n",
    "    std_pred_iter.append(std_pred)\n",
    "    mean_pred_iter.append(mean_pred)\n",
    "    IC_95_iter.append(IC_95)\n",
    "    train_time_iter.append(train_time)\n",
    "    test_time_iter.append(test_time)\n",
    "\n",
    "\n",
    "\n",
    "    data = {'mse':mse_pred_iter,\n",
    "        'std':std_pred_iter,\n",
    "        'mean':mean_pred_iter,\n",
    "        'IC_95':IC_95_iter,\n",
    "        'train_time':train_time_iter,\n",
    "        'test_time':test_time_iter}\n",
    "\n",
    "    with open('../results/'+name+'_OSGP.pickle', 'wb') as handle:\n",
    "      pickle.dump(data, handle, protocol=pickle.HIGHEST_PROTOCOL)\n"
   ]
  },
  {
   "cell_type": "markdown",
   "metadata": {
    "id": "ibYtLy6uf9nu"
   },
   "source": [
    "## Kernel Interpolation for Scalable Online Gaussian Processes (WISKI)\n",
    "\n",
    "\n",
    "This is the WISKI (Woodbury Inversion with SKI) model from the paper:\n",
    "\n",
    "Kernel Interpolation for Scalable Online Gaussian Processes\n",
    "\n",
    "by Samuel Stanton, Wesley J. Maddox, Ian Delbridge, Andrew Gordon Wilson\n",
    "\n",
    "\n",
    "The code is avaliable from https://github.com/wjmaddox/online_gp\n"
   ]
  },
  {
   "cell_type": "code",
   "execution_count": 27,
   "metadata": {
    "colab": {
     "base_uri": "https://localhost:8080/"
    },
    "executionInfo": {
     "elapsed": 577,
     "status": "ok",
     "timestamp": 1662047228240,
     "user": {
      "displayName": "VANESSA GOMEZ VERDEJO",
      "userId": "10847227554119461925"
     },
     "user_tz": -120
    },
    "id": "-yiOVRenAith",
    "outputId": "2f2576c8-1153-4273-fc30-f862487d518d"
   },
   "outputs": [],
   "source": [
    "from online_gp.models.stems import Identity, LinearStem\n",
    "from online_gp import models\n",
    "import gpytorch"
   ]
  },
  {
   "cell_type": "code",
   "execution_count": 28,
   "metadata": {},
   "outputs": [
    {
     "name": "stdout",
     "output_type": "stream",
     "text": [
      "Baseline: WISKI\n"
     ]
    }
   ],
   "source": [
    "print('Baseline: WISKI')"
   ]
  },
  {
   "cell_type": "code",
   "execution_count": null,
   "metadata": {
    "colab": {
     "base_uri": "https://localhost:8080/",
     "height": 1000
    },
    "executionInfo": {
     "elapsed": 1160,
     "status": "error",
     "timestamp": 1662047236079,
     "user": {
      "displayName": "VANESSA GOMEZ VERDEJO",
      "userId": "10847227554119461925"
     },
     "user_tz": -120
    },
    "id": "N2pUPJS5_FKj",
    "outputId": "3c25806b-55e2-468a-a919-45863f8ae2a4"
   },
   "outputs": [],
   "source": [
    "for num in [-1,0]:\n",
    "    print(num)\n",
    "    name, X_init, y_init, X_t, y_t = generate_data(num)\n",
    "    \n",
    "    mse_pred_iter = []\n",
    "    mean_pred_iter = []\n",
    "    std_pred_iter = []\n",
    "    IC_95_iter = []\n",
    "    train_time_iter = []\n",
    "    test_time_iter =[]\n",
    "\n",
    "    online_lr = 1e-1\n",
    "\n",
    "    init_x= X_init\n",
    "    init_y= y_init[:,None]\n",
    "    X = X_t\n",
    "    Y = y_t[:,None]\n",
    "\n",
    "    # Initialize the model\n",
    "    stem = LinearStem(input_dim=init_x.size(-1), feature_dim=2) \n",
    "\n",
    "    covar_module = gpytorch.kernels.ScaleKernel(gpytorch.kernels.RBFKernel())\n",
    "\n",
    "    wiski_model = models.OnlineSKIRegression(stem, init_x, init_y, lr=1e-1, grid_size=M, grid_bound=1., covar_module=covar_module)\n",
    "    wiski_model.fit(init_x, init_y, num_steps_init)  # pretrain model\n",
    "\n",
    "    mse_pred = []\n",
    "    mean_pred = []\n",
    "    std_pred = []\n",
    "    IC_95 = []\n",
    "    test_time = 0\n",
    "    train_time = 0\n",
    "\n",
    "    wiski_model.set_lr(1e-2)\n",
    "\n",
    "    for t, (x, y) in enumerate(zip(X, Y)):\n",
    "      X_new =  X[t:t+1]\n",
    "      y_new = Y[t:t+1]\n",
    "\n",
    "      # Compute test error predicting next sample\n",
    "      start = time.process_time()  \n",
    "      with torch.no_grad():\n",
    "        pred, cov = wiski_model.predict(X_new)\n",
    "      test_time += (time.process_time()-start) \n",
    "\n",
    "      mean_pred.append(pred.numpy())\n",
    "\n",
    "      mse = (pred-y_new)**2\n",
    "      mse_pred.append(mse.numpy())\n",
    "\n",
    "      std = torch.sqrt(cov)\n",
    "      std_pred.append(std.detach().numpy())\n",
    "      IC_95.append((torch.abs(y_new-pred)<2*std).numpy())\n",
    "\n",
    "      start = time.process_time() \n",
    "      wiski_model.update(x, y)\n",
    "      train_time += (time.process_time()-start) \n",
    "\n",
    "    # Save variables\n",
    "    mse_pred_iter.append(mse_pred)\n",
    "    std_pred_iter.append(std_pred)\n",
    "    mean_pred_iter.append(mean_pred)\n",
    "    IC_95_iter.append(IC_95)\n",
    "    train_time_iter.append(train_time)\n",
    "    test_time_iter.append(test_time)\n",
    "\n",
    "    data = {'mse':mse_pred_iter,\n",
    "        'std':std_pred_iter,\n",
    "        'mean':mean_pred_iter,\n",
    "        'IC_95':IC_95_iter,\n",
    "        'train_time':train_time_iter,\n",
    "        'test_time':test_time_iter}\n",
    "\n",
    "    with open('../results/'+name+'_WISKI.pickle', 'wb') as handle:\n",
    "      pickle.dump(data, handle, protocol=pickle.HIGHEST_PROTOCOL)"
   ]
  },
  {
   "cell_type": "markdown",
   "metadata": {},
   "source": [
    "# RESULTADOS"
   ]
  },
  {
   "cell_type": "code",
   "execution_count": 6,
   "metadata": {},
   "outputs": [],
   "source": [
    "import pickle\n",
    "import matplotlib.pyplot as plt\n",
    "import numpy as np\n"
   ]
  },
  {
   "cell_type": "code",
   "execution_count": 13,
   "metadata": {},
   "outputs": [
    {
     "name": "stdout",
     "output_type": "stream",
     "text": [
      "& & Persistance & w-SVGP & OSGP & WISKI & AGP-VSI & Fast-AGP & AGP \\\\ \\hline  \\hline\n",
      " & MSE & 0.4106 & 0.1744 & 400737.7500 &  0.3877 & 0.1966 & 0.1868 & 0.2180  \\\\\n",
      " SS & IC 95 & -- & 87.63 & 17.68 &  83.21 & 90.47 & 84.28 & 95.45  \\\\\n",
      " & Tr. Time & -- & 1911.6 & 245.4 & 226.7 & 1833.5 & 39.6 & 297.7  \\\\ \\hline\n",
      " & MSE & 3.9486 & 2.4789 & 2.5190 &  2.0593 & 2.2916 & 2.1920 & 2.2394  \\\\\n",
      " OR & IC 95 & -- & 84.39 & 89.76 &  89.27 & 87.32 & 93.17 & 94.15  \\\\\n",
      " & Tr. Time & -- & 240.6 & 30.5 & 29.3 & 232.0 & 3.0 & 20.7  \\\\ \\hline\n",
      " & MSE & nan & 1.3266 & 200370.1406 &  1.2235 & 1.2441 & 1.1894 & 1.2287  \\\\\n",
      "Average & IC 95 & -- & 86.01 & 53.72 &  86.24 & 88.89 & 88.73 & 94.80  \\\\\n",
      " & Tr. Time & -- & 1076.1 & 138.0 & 128.0 & 1032.7 & 21.3 & 159.2  \\\\ \\hline\n"
     ]
    }
   ],
   "source": [
    "print('& & Persistance & w-SVGP & OSGP & WISKI & AGP-VSI & Fast-AGP & AGP \\\\\\\\ \\\\hline  \\\\hline')\n",
    "\n",
    "avg_Dummy={}\n",
    "avg_w_SVGP = {}\n",
    "avg_WISKI = {}\n",
    "avg_OSGP = {}\n",
    "avg_AGP_VSI = {}\n",
    "avg_fast_AGP = {}\n",
    "avg_AGP = {}\n",
    "\n",
    "for num in [-1,0]:\n",
    "    dataset, cat, name = get_dataset_info(num)\n",
    "\n",
    "\n",
    "    with open('../results/'+name+'_Persistence.pickle', 'rb') as handle:\n",
    "        data_Dummy = pickle.load(handle)\n",
    "\n",
    "    with open('../results/'+name+'_Fast-AGP.pickle', 'rb') as handle:\n",
    "        data_fast_AGP = pickle.load(handle)\n",
    "\n",
    "    with open('../results/'+name+'_AGP.pickle', 'rb') as handle:\n",
    "        data_AGP = pickle.load(handle)\n",
    "\n",
    "    with open('../results/'+name+'_AGP-VSI.pickle', 'rb') as handle:\n",
    "        data_AGP_VSI = pickle.load(handle)\n",
    "\n",
    "    with open('../results/'+name+'_w-SVGP.pickle', 'rb') as handle:\n",
    "        data_w_SVGP = pickle.load(handle)\n",
    "\n",
    "    with open('../results/'+name+'_OSGP.pickle', 'rb') as handle:\n",
    "        data_OSGP = pickle.load(handle)\n",
    "\n",
    "    with open('../results/'+name+'_WISKI.pickle', 'rb') as handle:\n",
    "        data_WISKI = pickle.load(handle)\n",
    "\n",
    "    for field in ['mse', 'IC_95', 'train_time']:\n",
    "        \n",
    "        \n",
    "        if num == -1:\n",
    "            avg_Dummy[field] = []\n",
    "            avg_w_SVGP[field] = []\n",
    "            avg_WISKI[field] = []\n",
    "            avg_OSGP[field] = [] \n",
    "            avg_AGP_VSI[field] = []\n",
    "            avg_fast_AGP[field] = []\n",
    "            avg_AGP[field] = []\n",
    "        \n",
    "        avg_w_SVGP[field].append(np.mean(data_w_SVGP[field]))\n",
    "        avg_WISKI[field].append(np.mean(data_WISKI[field]))\n",
    "        avg_OSGP[field].append(np.mean(data_OSGP[field]))\n",
    "        avg_AGP_VSI[field].append(np.mean(data_AGP_VSI[field]))\n",
    "        avg_fast_AGP[field].append(np.mean(data_fast_AGP[field]))\n",
    "        avg_AGP[field].append(np.mean(data_AGP[field]))\n",
    "        \n",
    "\n",
    "        if field == 'mse':\n",
    "            print(' & MSE & %2.4f & %2.4f & %2.4f &  %2.4f & %2.4f & %2.4f & %2.4f  \\\\\\\\' %(np.mean(data_Dummy[field].numpy()),   np.mean(data_w_SVGP[field]), np.mean(data_OSGP[field]), np.mean(data_WISKI[field]),np.mean(data_AGP_VSI[field]), np.mean(data_fast_AGP[field]), np.mean(data_AGP[field])))\n",
    "        if field == 'IC_95':\n",
    "            print(' %s & IC 95 & -- & %2.2f & %2.2f &  %2.2f & %2.2f & %2.2f & %2.2f  \\\\\\\\' %(name, 100*np.mean(data_w_SVGP[field]), 100*np.mean(data_OSGP[field]),  100*np.mean(data_WISKI[field]), 100*np.mean(data_AGP_VSI[field]), 100*np.mean(data_fast_AGP[field]), 100*np.mean(data_AGP[field])))\n",
    "        if field == 'train_time':\n",
    "            print(' & Tr. Time & -- & %2.1f & %2.1f & %2.1f & %2.1f & %2.1f & %2.1f  \\\\\\\\ \\\\hline' %(np.mean(data_w_SVGP[field]), np.mean(data_OSGP[field]), np.mean(data_WISKI[field]),np.mean(data_AGP_VSI[field]), np.mean(data_fast_AGP[field]), np.mean(data_AGP[field])))\n",
    "\n",
    "\n",
    "for field in ['mse', 'IC_95', 'train_time']:\n",
    "    if field == 'mse':\n",
    "        print(' & MSE & %2.4f & %2.4f & %2.4f &  %2.4f & %2.4f & %2.4f & %2.4f  \\\\\\\\' %( np.mean(np.array(avg_Dummy[field])),   np.mean(np.array(avg_w_SVGP[field])), np.mean(np.array(avg_OSGP[field])), np.mean(np.array(avg_WISKI[field])), np.mean(np.array(avg_AGP_VSI[field])), np.mean(np.array(avg_fast_AGP[field])), np.mean(np.array(avg_AGP[field]))))\n",
    "    if field == 'IC_95':\n",
    "        print('Average & IC 95 & -- & %2.2f & %2.2f &  %2.2f & %2.2f & %2.2f & %2.2f  \\\\\\\\' %( 100*np.mean(np.array(avg_w_SVGP[field])), 100*np.mean(np.array(avg_OSGP[field])),  100*np.mean(np.array(avg_WISKI[field])), 100*np.mean(np.array(avg_AGP_VSI[field])), 100*np.mean(np.array(avg_fast_AGP[field])), 100*np.mean(np.array(avg_AGP[field]))))\n",
    "    if field == 'train_time':\n",
    "        print(' & Tr. Time & -- & %2.1f & %2.1f & %2.1f & %2.1f & %2.1f & %2.1f  \\\\\\\\ \\\\hline' %(  np.mean(np.array(avg_w_SVGP[field])), np.mean(np.array(avg_OSGP[field])), np.mean(np.array(avg_WISKI[field])), np.mean(np.array(avg_AGP_VSI[field])), np.mean(np.array(avg_fast_AGP[field])), np.mean(np.array(avg_AGP[field]))))\n"
   ]
  }
 ],
 "metadata": {
  "colab": {
   "collapsed_sections": [
    "pJl71RqCsiJB",
    "KFLfMwy6slE6",
    "v13BoR-fBVWV",
    "GwcD3jOgsg9d",
    "73kfokQJuTyF",
    "NQ8iy7sLGtOp",
    "GR8bXp3CuHHS",
    "MRsOPU6HF1Dc",
    "8PGrIU1oF1Dc",
    "YC5ElfjndhRH",
    "UVmIvHxBGUuP"
   ],
   "provenance": [
    {
     "file_id": "10SCcPak2Bko4ynVyr2T88UTtE7T9nvLc",
     "timestamp": 1661777170426
    },
    {
     "file_id": "1Qm2PZAVybehEPelbbabsPXr0juGrHF70",
     "timestamp": 1660051195177
    },
    {
     "file_id": "1PG7mf81JI1GFppArhILeCNwapwDPP3Dd",
     "timestamp": 1658502966595
    }
   ],
   "toc_visible": true
  },
  "kernelspec": {
   "display_name": "AVSGP",
   "language": "python",
   "name": "avsgp"
  },
  "language_info": {
   "codemirror_mode": {
    "name": "ipython",
    "version": 3
   },
   "file_extension": ".py",
   "mimetype": "text/x-python",
   "name": "python",
   "nbconvert_exporter": "python",
   "pygments_lexer": "ipython3",
   "version": "3.10.11"
  }
 },
 "nbformat": 4,
 "nbformat_minor": 1
}
