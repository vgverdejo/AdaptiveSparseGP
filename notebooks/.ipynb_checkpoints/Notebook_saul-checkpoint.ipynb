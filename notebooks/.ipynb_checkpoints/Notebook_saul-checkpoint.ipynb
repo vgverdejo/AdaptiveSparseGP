{
 "cells": [
  {
   "cell_type": "code",
   "execution_count": 1,
   "metadata": {
    "colab": {
     "base_uri": "https://localhost:8080/"
    },
    "executionInfo": {
     "elapsed": 5393,
     "status": "ok",
     "timestamp": 1662539365967,
     "user": {
      "displayName": "VANESSA GOMEZ VERDEJO",
      "userId": "10847227554119461925"
     },
     "user_tz": -120
    },
    "id": "lnnuR67dw5jM",
    "outputId": "e55ac8a0-10ff-4da4-faef-69781717b317"
   },
   "outputs": [
    {
     "name": "stdout",
     "output_type": "stream",
     "text": [
      "Requirement already satisfied: pyro-ppl in /export/usuarios_ml4ds/vanessa/pythonenv/online_gp/lib/python3.8/site-packages (1.8.2)\n",
      "Requirement already satisfied: pyro-api>=0.1.1 in /export/usuarios_ml4ds/vanessa/pythonenv/online_gp/lib/python3.8/site-packages (from pyro-ppl) (0.1.2)\n",
      "Requirement already satisfied: opt-einsum>=2.3.2 in /export/usuarios_ml4ds/vanessa/pythonenv/online_gp/lib/python3.8/site-packages (from pyro-ppl) (3.3.0)\n",
      "Requirement already satisfied: tqdm>=4.36 in /export/usuarios_ml4ds/vanessa/pythonenv/online_gp/lib/python3.8/site-packages (from pyro-ppl) (4.64.1)\n",
      "Requirement already satisfied: numpy>=1.7 in /export/usuarios_ml4ds/vanessa/pythonenv/online_gp/lib/python3.8/site-packages (from pyro-ppl) (1.23.2)\n",
      "Requirement already satisfied: torch>=1.11.0 in /export/usuarios_ml4ds/vanessa/pythonenv/online_gp/lib/python3.8/site-packages (from pyro-ppl) (1.12.1)\n",
      "Requirement already satisfied: typing-extensions in /export/usuarios_ml4ds/vanessa/pythonenv/online_gp/lib/python3.8/site-packages (from torch>=1.11.0->pyro-ppl) (4.3.0)\n"
     ]
    }
   ],
   "source": [
    "!pip install pyro-ppl"
   ]
  },
  {
   "cell_type": "code",
   "execution_count": null,
   "metadata": {
    "colab": {
     "base_uri": "https://localhost:8080/"
    },
    "executionInfo": {
     "elapsed": 10611,
     "status": "ok",
     "timestamp": 1662539376573,
     "user": {
      "displayName": "VANESSA GOMEZ VERDEJO",
      "userId": "10847227554119461925"
     },
     "user_tz": -120
    },
    "id": "qea-G4wyMlR8",
    "outputId": "e526591a-b86d-4293-d30e-5a349ed3a0b8"
   },
   "outputs": [],
   "source": [
    "# Some dependencies for online.gp\n",
    "!pip uninstall folium -y\n",
    "!pip install folium==0.2.1\n",
    "!pip uninstall urllib3 -y\n",
    "!pip install urllib3==1.25.11\n",
    "# Restart runtime after installing these packages\n",
    "exit()"
   ]
  },
  {
   "cell_type": "code",
   "execution_count": 2,
   "metadata": {
    "colab": {
     "base_uri": "https://localhost:8080/"
    },
    "executionInfo": {
     "elapsed": 17931,
     "status": "ok",
     "timestamp": 1662539394500,
     "user": {
      "displayName": "VANESSA GOMEZ VERDEJO",
      "userId": "10847227554119461925"
     },
     "user_tz": -120
    },
    "id": "IhMcmkjNyAYo",
    "outputId": "4f91b89c-9a86-446f-d7fc-5d57dfbcba01"
   },
   "outputs": [
    {
     "ename": "ModuleNotFoundError",
     "evalue": "No module named 'google.colab'",
     "output_type": "error",
     "traceback": [
      "\u001b[0;31m---------------------------------------------------------------------------\u001b[0m",
      "\u001b[0;31mModuleNotFoundError\u001b[0m                       Traceback (most recent call last)",
      "Input \u001b[0;32mIn [2]\u001b[0m, in \u001b[0;36m<cell line: 1>\u001b[0;34m()\u001b[0m\n\u001b[0;32m----> 1\u001b[0m \u001b[38;5;28;01mfrom\u001b[39;00m \u001b[38;5;21;01mgoogle\u001b[39;00m\u001b[38;5;21;01m.\u001b[39;00m\u001b[38;5;21;01mcolab\u001b[39;00m \u001b[38;5;28;01mimport\u001b[39;00m drive \n\u001b[1;32m      2\u001b[0m drive\u001b[38;5;241m.\u001b[39mmount(\u001b[38;5;124m'\u001b[39m\u001b[38;5;124m/content/drive\u001b[39m\u001b[38;5;124m'\u001b[39m)\n",
      "\u001b[0;31mModuleNotFoundError\u001b[0m: No module named 'google.colab'"
     ]
    }
   ],
   "source": [
    "from google.colab import drive \n",
    "drive.mount('/content/drive')"
   ]
  },
  {
   "cell_type": "code",
   "execution_count": null,
   "metadata": {
    "colab": {
     "base_uri": "https://localhost:8080/",
     "height": 1000
    },
    "executionInfo": {
     "elapsed": 10119,
     "status": "ok",
     "timestamp": 1662539581160,
     "user": {
      "displayName": "VANESSA GOMEZ VERDEJO",
      "userId": "10847227554119461925"
     },
     "user_tz": -120
    },
    "id": "jUtgqFw_dK5c",
    "outputId": "f6098e83-2d46-43d4-c914-f787efc1f26b"
   },
   "outputs": [],
   "source": [
    "%cd /content/drive/My\\ Drive/AdaptiveSVGP/online_gp-main\n",
    "\n",
    "!cd online_gp\n",
    "!pip install -r requirements.txt\n",
    "!pip install -e ."
   ]
  },
  {
   "cell_type": "code",
   "execution_count": null,
   "metadata": {
    "colab": {
     "base_uri": "https://localhost:8080/"
    },
    "executionInfo": {
     "elapsed": 2827,
     "status": "ok",
     "timestamp": 1662539583982,
     "user": {
      "displayName": "VANESSA GOMEZ VERDEJO",
      "userId": "10847227554119461925"
     },
     "user_tz": -120
    },
    "id": "75hTvLDDiaG3",
    "outputId": "030ca448-b03d-4408-de0e-b7a9f6d3dad6"
   },
   "outputs": [],
   "source": [
    "!pip install gpytorch"
   ]
  },
  {
   "cell_type": "code",
   "execution_count": 3,
   "metadata": {
    "colab": {
     "base_uri": "https://localhost:8080/",
     "height": 225
    },
    "executionInfo": {
     "elapsed": 3402,
     "status": "error",
     "timestamp": 1662539587380,
     "user": {
      "displayName": "VANESSA GOMEZ VERDEJO",
      "userId": "10847227554119461925"
     },
     "user_tz": -120
    },
    "id": "lZbp69mawC5K",
    "outputId": "5b29c80a-01de-4a84-e568-0d1661a2efcc"
   },
   "outputs": [],
   "source": [
    "import os\n",
    "import matplotlib.pyplot as plt\n",
    "import torch\n",
    "import numpy as np\n",
    "import copy\n",
    "import time\n",
    "import pandas as pd \n",
    "\n",
    "\n",
    "import pyro\n",
    "import pyro.contrib.gp as gp\n",
    "import pyro.distributions as dist\n",
    "\n",
    "from matplotlib.animation import FuncAnimation\n",
    "from matplotlib import rc\n",
    "from mpl_toolkits.axes_grid1 import make_axes_locatable\n",
    "\n",
    "import seaborn as sns\n",
    "from sklearn.metrics import confusion_matrix, ConfusionMatrixDisplay\n",
    "\n",
    "#assert pyro.__version__.startswith('1.8.1')\n",
    "pyro.set_rng_seed(0)\n"
   ]
  },
  {
   "cell_type": "code",
   "execution_count": 4,
   "metadata": {
    "executionInfo": {
     "elapsed": 7,
     "status": "aborted",
     "timestamp": 1662539587381,
     "user": {
      "displayName": "VANESSA GOMEZ VERDEJO",
      "userId": "10847227554119461925"
     },
     "user_tz": -120
    },
    "id": "S_wFZDrBnhRn"
   },
   "outputs": [],
   "source": [
    "plt.rcParams['figure.dpi'] = 100"
   ]
  },
  {
   "cell_type": "markdown",
   "metadata": {
    "id": "pJl71RqCsiJB"
   },
   "source": [
    "# Data generation"
   ]
  },
  {
   "cell_type": "code",
   "execution_count": 5,
   "metadata": {
    "executionInfo": {
     "elapsed": 390,
     "status": "ok",
     "timestamp": 1662539616348,
     "user": {
      "displayName": "VANESSA GOMEZ VERDEJO",
      "userId": "10847227554119461925"
     },
     "user_tz": -120
    },
    "id": "3eFpWfnNhn2S"
   },
   "outputs": [],
   "source": [
    "# We predict next 24 hours\n",
    "def generate_data(weeks= True):\n",
    "\n",
    "    file_name = '/content/drive/My Drive/AdaptiveSVGP/AdaptiveSVGP/data/2020_load.xlsx'\n",
    "    df1 = pd.read_excel(file_name, header=None)\n",
    "    file_name = '/content/drive/My Drive/AdaptiveSVGP/AdaptiveSVGP/data/2021_load.xlsx'\n",
    "    df2 = pd.read_excel(file_name, header=None)\n",
    "    df = df1.append(df2,  ignore_index=True)\n",
    "    df.columns =['values']\n",
    "    n_days = int(df.shape[0]/24)\n",
    "    \n",
    "    df.insert(0, \"Day\", (np.ones((24,1))* np.arange(0,n_days)).T.ravel(), True)\n",
    "    df2 = df.groupby(\"Day\").agg({\"values\": lambda x:x.tolist()})\n",
    "    id_df=df2[\"values\"].apply(lambda x:pd.Series(x))\n",
    "    id_cols=range(24)\n",
    "    id_df.columns=id_cols\n",
    "    df_y = id_df\n",
    "    df_y = df_y.shift(-1)\n",
    "    df_y.columns=['pred_value' + str(i) for i in range(24)]\n",
    "    \n",
    "    X = id_df.values\n",
    "    Y = df_y.values\n",
    "\n",
    "    #Rescale X, Y\n",
    "    scale_factor =  1000\n",
    "    X = X /scale_factor\n",
    "    Y = Y/scale_factor\n",
    "\n",
    "    #Reshape X and Y by weeks\n",
    "    if weeks:\n",
    "      X_week = X[:-6,:]\n",
    "      for i in range(1,6):\n",
    "        X_week = np.concatenate((X_week, X[i:-(6-i),:]), axis =1)\n",
    "      i = 6\n",
    "      X_week = np.concatenate((X_week, X[i:,:]), axis =1)\n",
    "      Y_week = Y[6:]\n",
    "      X = X_week\n",
    "      Y = Y_week\n",
    "    else:\n",
    "      X = X[6:]\n",
    "      Y = Y[6:]\n",
    "\n",
    "    # One month for model initialization\n",
    "    days_init = 30\n",
    "    X_init = torch.Tensor(X[:days_init])\n",
    "    y_init = torch.Tensor(Y[:days_init]) \n",
    "    X_t = torch.Tensor(X[days_init:-1])\n",
    "    y_t = torch.Tensor(Y[days_init:-1])\n",
    "\n",
    "    return X_init, y_init, X_t, y_t "
   ]
  },
  {
   "cell_type": "code",
   "execution_count": 6,
   "metadata": {
    "executionInfo": {
     "elapsed": 1994,
     "status": "ok",
     "timestamp": 1662539619519,
     "user": {
      "displayName": "VANESSA GOMEZ VERDEJO",
      "userId": "10847227554119461925"
     },
     "user_tz": -120
    },
    "id": "imuERYelkIrS"
   },
   "outputs": [
    {
     "ename": "FileNotFoundError",
     "evalue": "[Errno 2] No such file or directory: '/content/drive/My Drive/AdaptiveSVGP/AdaptiveSVGP/data/2020_load.xlsx'",
     "output_type": "error",
     "traceback": [
      "\u001b[0;31m---------------------------------------------------------------------------\u001b[0m",
      "\u001b[0;31mFileNotFoundError\u001b[0m                         Traceback (most recent call last)",
      "Input \u001b[0;32mIn [6]\u001b[0m, in \u001b[0;36m<cell line: 1>\u001b[0;34m()\u001b[0m\n\u001b[0;32m----> 1\u001b[0m X_init, y_init, X_t, y_t  \u001b[38;5;241m=\u001b[39m \u001b[43mgenerate_data\u001b[49m\u001b[43m(\u001b[49m\u001b[43m)\u001b[49m\n",
      "Input \u001b[0;32mIn [5]\u001b[0m, in \u001b[0;36mgenerate_data\u001b[0;34m(weeks)\u001b[0m\n\u001b[1;32m      2\u001b[0m \u001b[38;5;28;01mdef\u001b[39;00m \u001b[38;5;21mgenerate_data\u001b[39m(weeks\u001b[38;5;241m=\u001b[39m \u001b[38;5;28;01mTrue\u001b[39;00m):\n\u001b[1;32m      4\u001b[0m     file_name \u001b[38;5;241m=\u001b[39m \u001b[38;5;124m'\u001b[39m\u001b[38;5;124m/content/drive/My Drive/AdaptiveSVGP/AdaptiveSVGP/data/2020_load.xlsx\u001b[39m\u001b[38;5;124m'\u001b[39m\n\u001b[0;32m----> 5\u001b[0m     df1 \u001b[38;5;241m=\u001b[39m \u001b[43mpd\u001b[49m\u001b[38;5;241;43m.\u001b[39;49m\u001b[43mread_excel\u001b[49m\u001b[43m(\u001b[49m\u001b[43mfile_name\u001b[49m\u001b[43m,\u001b[49m\u001b[43m \u001b[49m\u001b[43mheader\u001b[49m\u001b[38;5;241;43m=\u001b[39;49m\u001b[38;5;28;43;01mNone\u001b[39;49;00m\u001b[43m)\u001b[49m\n\u001b[1;32m      6\u001b[0m     file_name \u001b[38;5;241m=\u001b[39m \u001b[38;5;124m'\u001b[39m\u001b[38;5;124m/content/drive/My Drive/AdaptiveSVGP/AdaptiveSVGP/data/2021_load.xlsx\u001b[39m\u001b[38;5;124m'\u001b[39m\n\u001b[1;32m      7\u001b[0m     df2 \u001b[38;5;241m=\u001b[39m pd\u001b[38;5;241m.\u001b[39mread_excel(file_name, header\u001b[38;5;241m=\u001b[39m\u001b[38;5;28;01mNone\u001b[39;00m)\n",
      "File \u001b[0;32m/usr/lib/python3.8/site-packages/pandas/util/_decorators.py:311\u001b[0m, in \u001b[0;36mdeprecate_nonkeyword_arguments.<locals>.decorate.<locals>.wrapper\u001b[0;34m(*args, **kwargs)\u001b[0m\n\u001b[1;32m    305\u001b[0m \u001b[38;5;28;01mif\u001b[39;00m \u001b[38;5;28mlen\u001b[39m(args) \u001b[38;5;241m>\u001b[39m num_allow_args:\n\u001b[1;32m    306\u001b[0m     warnings\u001b[38;5;241m.\u001b[39mwarn(\n\u001b[1;32m    307\u001b[0m         msg\u001b[38;5;241m.\u001b[39mformat(arguments\u001b[38;5;241m=\u001b[39marguments),\n\u001b[1;32m    308\u001b[0m         \u001b[38;5;167;01mFutureWarning\u001b[39;00m,\n\u001b[1;32m    309\u001b[0m         stacklevel\u001b[38;5;241m=\u001b[39mstacklevel,\n\u001b[1;32m    310\u001b[0m     )\n\u001b[0;32m--> 311\u001b[0m \u001b[38;5;28;01mreturn\u001b[39;00m \u001b[43mfunc\u001b[49m\u001b[43m(\u001b[49m\u001b[38;5;241;43m*\u001b[39;49m\u001b[43margs\u001b[49m\u001b[43m,\u001b[49m\u001b[43m \u001b[49m\u001b[38;5;241;43m*\u001b[39;49m\u001b[38;5;241;43m*\u001b[39;49m\u001b[43mkwargs\u001b[49m\u001b[43m)\u001b[49m\n",
      "File \u001b[0;32m/usr/lib/python3.8/site-packages/pandas/io/excel/_base.py:457\u001b[0m, in \u001b[0;36mread_excel\u001b[0;34m(io, sheet_name, header, names, index_col, usecols, squeeze, dtype, engine, converters, true_values, false_values, skiprows, nrows, na_values, keep_default_na, na_filter, verbose, parse_dates, date_parser, thousands, decimal, comment, skipfooter, convert_float, mangle_dupe_cols, storage_options)\u001b[0m\n\u001b[1;32m    455\u001b[0m \u001b[38;5;28;01mif\u001b[39;00m \u001b[38;5;129;01mnot\u001b[39;00m \u001b[38;5;28misinstance\u001b[39m(io, ExcelFile):\n\u001b[1;32m    456\u001b[0m     should_close \u001b[38;5;241m=\u001b[39m \u001b[38;5;28;01mTrue\u001b[39;00m\n\u001b[0;32m--> 457\u001b[0m     io \u001b[38;5;241m=\u001b[39m \u001b[43mExcelFile\u001b[49m\u001b[43m(\u001b[49m\u001b[43mio\u001b[49m\u001b[43m,\u001b[49m\u001b[43m \u001b[49m\u001b[43mstorage_options\u001b[49m\u001b[38;5;241;43m=\u001b[39;49m\u001b[43mstorage_options\u001b[49m\u001b[43m,\u001b[49m\u001b[43m \u001b[49m\u001b[43mengine\u001b[49m\u001b[38;5;241;43m=\u001b[39;49m\u001b[43mengine\u001b[49m\u001b[43m)\u001b[49m\n\u001b[1;32m    458\u001b[0m \u001b[38;5;28;01melif\u001b[39;00m engine \u001b[38;5;129;01mand\u001b[39;00m engine \u001b[38;5;241m!=\u001b[39m io\u001b[38;5;241m.\u001b[39mengine:\n\u001b[1;32m    459\u001b[0m     \u001b[38;5;28;01mraise\u001b[39;00m \u001b[38;5;167;01mValueError\u001b[39;00m(\n\u001b[1;32m    460\u001b[0m         \u001b[38;5;124m\"\u001b[39m\u001b[38;5;124mEngine should not be specified when passing \u001b[39m\u001b[38;5;124m\"\u001b[39m\n\u001b[1;32m    461\u001b[0m         \u001b[38;5;124m\"\u001b[39m\u001b[38;5;124man ExcelFile - ExcelFile already has the engine set\u001b[39m\u001b[38;5;124m\"\u001b[39m\n\u001b[1;32m    462\u001b[0m     )\n",
      "File \u001b[0;32m/usr/lib/python3.8/site-packages/pandas/io/excel/_base.py:1376\u001b[0m, in \u001b[0;36mExcelFile.__init__\u001b[0;34m(self, path_or_buffer, engine, storage_options)\u001b[0m\n\u001b[1;32m   1374\u001b[0m     ext \u001b[38;5;241m=\u001b[39m \u001b[38;5;124m\"\u001b[39m\u001b[38;5;124mxls\u001b[39m\u001b[38;5;124m\"\u001b[39m\n\u001b[1;32m   1375\u001b[0m \u001b[38;5;28;01melse\u001b[39;00m:\n\u001b[0;32m-> 1376\u001b[0m     ext \u001b[38;5;241m=\u001b[39m \u001b[43minspect_excel_format\u001b[49m\u001b[43m(\u001b[49m\n\u001b[1;32m   1377\u001b[0m \u001b[43m        \u001b[49m\u001b[43mcontent_or_path\u001b[49m\u001b[38;5;241;43m=\u001b[39;49m\u001b[43mpath_or_buffer\u001b[49m\u001b[43m,\u001b[49m\u001b[43m \u001b[49m\u001b[43mstorage_options\u001b[49m\u001b[38;5;241;43m=\u001b[39;49m\u001b[43mstorage_options\u001b[49m\n\u001b[1;32m   1378\u001b[0m \u001b[43m    \u001b[49m\u001b[43m)\u001b[49m\n\u001b[1;32m   1379\u001b[0m     \u001b[38;5;28;01mif\u001b[39;00m ext \u001b[38;5;129;01mis\u001b[39;00m \u001b[38;5;28;01mNone\u001b[39;00m:\n\u001b[1;32m   1380\u001b[0m         \u001b[38;5;28;01mraise\u001b[39;00m \u001b[38;5;167;01mValueError\u001b[39;00m(\n\u001b[1;32m   1381\u001b[0m             \u001b[38;5;124m\"\u001b[39m\u001b[38;5;124mExcel file format cannot be determined, you must specify \u001b[39m\u001b[38;5;124m\"\u001b[39m\n\u001b[1;32m   1382\u001b[0m             \u001b[38;5;124m\"\u001b[39m\u001b[38;5;124man engine manually.\u001b[39m\u001b[38;5;124m\"\u001b[39m\n\u001b[1;32m   1383\u001b[0m         )\n",
      "File \u001b[0;32m/usr/lib/python3.8/site-packages/pandas/io/excel/_base.py:1250\u001b[0m, in \u001b[0;36minspect_excel_format\u001b[0;34m(content_or_path, storage_options)\u001b[0m\n\u001b[1;32m   1247\u001b[0m \u001b[38;5;28;01mif\u001b[39;00m \u001b[38;5;28misinstance\u001b[39m(content_or_path, \u001b[38;5;28mbytes\u001b[39m):\n\u001b[1;32m   1248\u001b[0m     content_or_path \u001b[38;5;241m=\u001b[39m BytesIO(content_or_path)\n\u001b[0;32m-> 1250\u001b[0m \u001b[38;5;28;01mwith\u001b[39;00m \u001b[43mget_handle\u001b[49m\u001b[43m(\u001b[49m\n\u001b[1;32m   1251\u001b[0m \u001b[43m    \u001b[49m\u001b[43mcontent_or_path\u001b[49m\u001b[43m,\u001b[49m\u001b[43m \u001b[49m\u001b[38;5;124;43m\"\u001b[39;49m\u001b[38;5;124;43mrb\u001b[39;49m\u001b[38;5;124;43m\"\u001b[39;49m\u001b[43m,\u001b[49m\u001b[43m \u001b[49m\u001b[43mstorage_options\u001b[49m\u001b[38;5;241;43m=\u001b[39;49m\u001b[43mstorage_options\u001b[49m\u001b[43m,\u001b[49m\u001b[43m \u001b[49m\u001b[43mis_text\u001b[49m\u001b[38;5;241;43m=\u001b[39;49m\u001b[38;5;28;43;01mFalse\u001b[39;49;00m\n\u001b[1;32m   1252\u001b[0m \u001b[43m\u001b[49m\u001b[43m)\u001b[49m \u001b[38;5;28;01mas\u001b[39;00m handle:\n\u001b[1;32m   1253\u001b[0m     stream \u001b[38;5;241m=\u001b[39m handle\u001b[38;5;241m.\u001b[39mhandle\n\u001b[1;32m   1254\u001b[0m     stream\u001b[38;5;241m.\u001b[39mseek(\u001b[38;5;241m0\u001b[39m)\n",
      "File \u001b[0;32m/usr/lib/python3.8/site-packages/pandas/io/common.py:795\u001b[0m, in \u001b[0;36mget_handle\u001b[0;34m(path_or_buf, mode, encoding, compression, memory_map, is_text, errors, storage_options)\u001b[0m\n\u001b[1;32m    786\u001b[0m         handle \u001b[38;5;241m=\u001b[39m \u001b[38;5;28mopen\u001b[39m(\n\u001b[1;32m    787\u001b[0m             handle,\n\u001b[1;32m    788\u001b[0m             ioargs\u001b[38;5;241m.\u001b[39mmode,\n\u001b[0;32m   (...)\u001b[0m\n\u001b[1;32m    791\u001b[0m             newline\u001b[38;5;241m=\u001b[39m\u001b[38;5;124m\"\u001b[39m\u001b[38;5;124m\"\u001b[39m,\n\u001b[1;32m    792\u001b[0m         )\n\u001b[1;32m    793\u001b[0m     \u001b[38;5;28;01melse\u001b[39;00m:\n\u001b[1;32m    794\u001b[0m         \u001b[38;5;66;03m# Binary mode\u001b[39;00m\n\u001b[0;32m--> 795\u001b[0m         handle \u001b[38;5;241m=\u001b[39m \u001b[38;5;28;43mopen\u001b[39;49m\u001b[43m(\u001b[49m\u001b[43mhandle\u001b[49m\u001b[43m,\u001b[49m\u001b[43m \u001b[49m\u001b[43mioargs\u001b[49m\u001b[38;5;241;43m.\u001b[39;49m\u001b[43mmode\u001b[49m\u001b[43m)\u001b[49m\n\u001b[1;32m    796\u001b[0m     handles\u001b[38;5;241m.\u001b[39mappend(handle)\n\u001b[1;32m    798\u001b[0m \u001b[38;5;66;03m# Convert BytesIO or file objects passed with an encoding\u001b[39;00m\n",
      "\u001b[0;31mFileNotFoundError\u001b[0m: [Errno 2] No such file or directory: '/content/drive/My Drive/AdaptiveSVGP/AdaptiveSVGP/data/2020_load.xlsx'"
     ]
    }
   ],
   "source": [
    "X_init, y_init, X_t, y_t  = generate_data()"
   ]
  },
  {
   "cell_type": "code",
   "execution_count": null,
   "metadata": {
    "colab": {
     "base_uri": "https://localhost:8080/",
     "height": 451
    },
    "executionInfo": {
     "elapsed": 801,
     "status": "ok",
     "timestamp": 1662539620315,
     "user": {
      "displayName": "VANESSA GOMEZ VERDEJO",
      "userId": "10847227554119461925"
     },
     "user_tz": -120
    },
    "id": "AZUVw1aDuB11",
    "outputId": "e5810e1b-d372-4680-d0a7-264bc1ebb077"
   },
   "outputs": [],
   "source": [
    "fig = plt.figure(figsize=(16,4))\n",
    "plt.plot(X_t[:,:7].ravel())\n",
    "fig = plt.figure(figsize=(16,4))\n",
    "plt.plot(X_t[:,:7].ravel()[:4*7*24])"
   ]
  },
  {
   "cell_type": "markdown",
   "metadata": {
    "id": "KFLfMwy6slE6"
   },
   "source": [
    "# General configuration"
   ]
  },
  {
   "cell_type": "code",
   "execution_count": null,
   "metadata": {
    "executionInfo": {
     "elapsed": 526,
     "status": "ok",
     "timestamp": 1662539625174,
     "user": {
      "displayName": "VANESSA GOMEZ VERDEJO",
      "userId": "10847227554119461925"
     },
     "user_tz": -120
    },
    "id": "2R0CGlkKsrU9"
   },
   "outputs": [],
   "source": [
    "chunk_size = 100\n",
    "\n",
    "M = 10\n",
    "T = 30\n",
    "#inducing_point_init = (0, 1)\n",
    "#inducing_points = X_init[:-M]\n",
    "\n",
    "# Some parameters\n",
    "num_steps_init = 200\n",
    "num_steps_online = 1\n",
    "\n",
    "lamb_ = 0.927 # T =30\n",
    "#lamb_ = 0.99999 #?"
   ]
  },
  {
   "cell_type": "markdown",
   "metadata": {
    "id": "BPxxMpc2F1Db"
   },
   "source": [
    "# BASELINES"
   ]
  },
  {
   "cell_type": "markdown",
   "metadata": {
    "id": "8PGrIU1oF1Dc"
   },
   "source": [
    "## Streaming SGPR\n",
    "\n",
    "Code from https://github.com/wjmaddox/online_gp\n",
    "\n",
    "Pero implementan este modelo:\n",
    "\n",
    "https://arxiv.org/pdf/1705.07131.pdf\n",
    "\n",
    "https://github.com/thangbui/streaming_sparse_gp/blob/b46e6e4a9257937f7ca26ac06099f5365c8b50d8/code/osgpr.py\n",
    "\n"
   ]
  },
  {
   "cell_type": "code",
   "execution_count": null,
   "metadata": {
    "executionInfo": {
     "elapsed": 9923,
     "status": "ok",
     "timestamp": 1662539644573,
     "user": {
      "displayName": "VANESSA GOMEZ VERDEJO",
      "userId": "10847227554119461925"
     },
     "user_tz": -120
    },
    "id": "KgX9P3g03vdy"
   },
   "outputs": [],
   "source": [
    "import sys\n",
    "sys.path.append('../experiments/regression/')\n",
    "\n",
    "from copy import deepcopy\n",
    "\n",
    "import math\n",
    "\n",
    "import gpytorch\n",
    "from gpytorch import mlls\n",
    "from online_gp import models\n",
    "\n",
    "#from online_gp.utils.cuda import try_cuda"
   ]
  },
  {
   "cell_type": "code",
   "execution_count": null,
   "metadata": {
    "colab": {
     "base_uri": "https://localhost:8080/"
    },
    "executionInfo": {
     "elapsed": 13684,
     "status": "ok",
     "timestamp": 1662539761281,
     "user": {
      "displayName": "VANESSA GOMEZ VERDEJO",
      "userId": "10847227554119461925"
     },
     "user_tz": -120
    },
    "id": "ju_ZlLEuJfCd",
    "outputId": "055067d5-d206-4521-c55b-05e418c8608b"
   },
   "outputs": [],
   "source": [
    "mse_pred_iter = []\n",
    "mean_pred_iter = []\n",
    "std_pred_iter = []\n",
    "IC_95_iter = []\n",
    "train_time_iter = []\n",
    "test_time_iter =[]\n",
    "\n",
    "\n",
    "X_init, y_init_24hours, X_t, y_t_24hours = generate_data()\n",
    "\n",
    "for hour in range(1):\n",
    "  print(hour)\n",
    "  y_init = torch.squeeze(y_init_24hours[:,hour])\n",
    "  y_t = torch.squeeze(y_t_24hours[:,hour])\n",
    "  # initialize pyro\n",
    "  pyro.clear_param_store()\n",
    "\n",
    "  \n",
    "  \n",
    "  init_x= X_init#[:,None]\n",
    "  init_y= y_init[:,None]\n",
    "  X = X_t#[:,None]\n",
    "  Y = y_t[:,None]\n",
    "\n",
    "  # Initialize the model\n",
    "  covar_module = gpytorch.kernels.RBFKernel()\n",
    " \n",
    "  # initialize the inducing inputs with the last training samples \n",
    "  inducing_points =copy.copy(init_x[-M:,:])\n",
    "\n",
    "  osgpr_model = models.StreamingSGPR(inducing_points, learn_inducing_locations=True, \n",
    "                                    covar_module=covar_module, num_data=init_x.size(0), jitter=1e-3)\n",
    "  \n",
    "  # Training a initial GP as starting point\n",
    "\n",
    "  elbo = mlls.VariationalELBO(osgpr_model.likelihood, osgpr_model, num_data=init_x.size(0))\n",
    "  mll = mlls.ExactMarginalLogLikelihood(osgpr_model.likelihood, osgpr_model)\n",
    "  trainable_params = [\n",
    "      dict(params=osgpr_model.likelihood.parameters(), lr=1e-1),\n",
    "      dict(params=osgpr_model.covar_module.parameters(), lr=1e-1),\n",
    "      dict(params=osgpr_model.variational_strategy.inducing_points, lr=1e-2),\n",
    "      dict(params=osgpr_model.variational_strategy._variational_distribution.parameters(), lr=1e-2)\n",
    "  ]\n",
    "  optimizer = torch.optim.Adam(trainable_params)\n",
    "  lr_scheduler = torch.optim.lr_scheduler.CosineAnnealingLR(optimizer, 400, 1e-4)\n",
    "\n",
    "  osgpr_model.train()\n",
    "  records = []\n",
    "  for i in range(num_steps_init):\n",
    "      optimizer.zero_grad()\n",
    "      train_dist = osgpr_model(init_x)\n",
    "      loss = -elbo(train_dist, init_y.squeeze(-1)).sum()\n",
    "      loss.backward()\n",
    "      optimizer.step()\n",
    "      lr_scheduler.step()\n",
    "\n",
    "  osgpr_model.eval()\n",
    "  osgpr_model = osgpr_model.get_fantasy_model(init_x, init_y, resample_ratio=0)\n",
    "\n",
    "  mse_pred = []\n",
    "  mean_pred = []\n",
    "  std_pred = []\n",
    "  IC_95 = []\n",
    "  test_time = 0\n",
    "  train_time = 0\n",
    "\n",
    "  chunk_size = T\n",
    "\n",
    "  for t, (x, y) in enumerate(zip(X, Y)):\n",
    "    \n",
    "      X_new =  X[t:t+1]\n",
    "      y_new = Y[t:t+1]\n",
    "\n",
    "      # Compute test error predicting next sample\n",
    "      start = time.process_time()  \n",
    "      with torch.no_grad():\n",
    "        pred, cov = osgpr_model.predict(X_new)\n",
    "      test_time += (time.process_time()-start) \n",
    "\n",
    "      mean_pred.append(pred.numpy())\n",
    "      \n",
    "      mse = (pred-y_new)**2\n",
    "      mse_pred.append(mse.numpy())\n",
    "\n",
    "      std = torch.sqrt(cov)\n",
    "      std_pred.append(std.detach().numpy())\n",
    "      IC_95.append((torch.abs(y_new-pred)<2*std).numpy())\n",
    "      \n",
    "      start = time.process_time()\n",
    "      elbo = models.StreamingSGPRBound(osgpr_model)\n",
    "      trainable_params = [\n",
    "          dict(params=osgpr_model.likelihood.parameters(), lr=1e-2),\n",
    "          dict(params=osgpr_model.covar_module.parameters(), lr=1e-2),\n",
    "          dict(params=osgpr_model.variational_strategy.inducing_points, lr=1e-3),\n",
    "      ]\n",
    "      optimizer = torch.optim.Adam(trainable_params)\n",
    "      \n",
    "      for _ in range(1):\n",
    "          optimizer.zero_grad()\n",
    "          loss = -elbo(x.view(-1, 1).T, y.view(-1, 1))\n",
    "          loss.backward()\n",
    "          optimizer.step()\n",
    "          \n",
    "      resample_ratio = 0.1 if t % 2 == 1 else 0\n",
    "      osgpr_model = osgpr_model.get_fantasy_model(x.view(-1, 1).T, y.view(-1, 1), resample_ratio)\n",
    "      train_time += (time.process_time()-start) \n",
    "  # Save variables\n",
    "  mse_pred_iter.append(mse_pred)\n",
    "  std_pred_iter.append(std_pred)\n",
    "  mean_pred_iter.append(mean_pred)\n",
    "  IC_95_iter.append(IC_95)\n",
    "  train_time_iter.append(train_time)\n",
    "  test_time_iter.append(test_time)\n",
    "\n",
    "OSGP_mean_pred = np.squeeze(np.array(mean_pred_iter)).T\n",
    "OSGP_nmse = np.squeeze(np.array(mse_pred_iter)).T\n",
    "  \n",
    "  "
   ]
  },
  {
   "cell_type": "code",
   "execution_count": null,
   "metadata": {
    "colab": {
     "base_uri": "https://localhost:8080/"
    },
    "executionInfo": {
     "elapsed": 7,
     "status": "ok",
     "timestamp": 1662539761282,
     "user": {
      "displayName": "VANESSA GOMEZ VERDEJO",
      "userId": "10847227554119461925"
     },
     "user_tz": -120
    },
    "id": "tbQOPmREapKk",
    "outputId": "854ca3e5-6097-476b-8700-fd14a50f6707"
   },
   "outputs": [],
   "source": [
    "print('MSE medio por hora')\n",
    "print(np.mean(np.array(OSGP_nmse),axis =0))\n",
    "\n",
    "print('MSE medio (promediado en las 24 horas)')\n",
    "print(np.mean(np.array(OSGP_nmse)))\n"
   ]
  },
  {
   "cell_type": "markdown",
   "metadata": {
    "id": "ibYtLy6uf9nu"
   },
   "source": [
    "## Kernel Interpolation for Scalable Online Gaussian Processes (WISKI)\n",
    "\n",
    "Code from https://github.com/wjmaddox/online_gp\n",
    "\n",
    "WISKI (Woodbury Inversion with SKI) from the paper\n",
    "\n",
    "Kernel Interpolation for Scalable Online Gaussian Processes\n",
    "\n",
    "by Samuel Stanton, Wesley J. Maddox, Ian Delbridge, Andrew Gordon Wilson\n"
   ]
  },
  {
   "cell_type": "code",
   "execution_count": null,
   "metadata": {
    "executionInfo": {
     "elapsed": 744,
     "status": "ok",
     "timestamp": 1662539774081,
     "user": {
      "displayName": "VANESSA GOMEZ VERDEJO",
      "userId": "10847227554119461925"
     },
     "user_tz": -120
    },
    "id": "-yiOVRenAith"
   },
   "outputs": [],
   "source": [
    "from online_gp.models.stems import Identity\n",
    "from online_gp import models\n",
    "import gpytorch"
   ]
  },
  {
   "cell_type": "code",
   "execution_count": null,
   "metadata": {
    "colab": {
     "base_uri": "https://localhost:8080/",
     "height": 487
    },
    "executionInfo": {
     "elapsed": 1447,
     "status": "error",
     "timestamp": 1662539778021,
     "user": {
      "displayName": "VANESSA GOMEZ VERDEJO",
      "userId": "10847227554119461925"
     },
     "user_tz": -120
    },
    "id": "N2pUPJS5_FKj",
    "outputId": "71ffad55-a10f-4865-894a-9af42da3d0e1"
   },
   "outputs": [],
   "source": [
    "mse_pred_iter = []\n",
    "mean_pred_iter = []\n",
    "std_pred_iter = []\n",
    "IC_95_iter = []\n",
    "train_time_iter = []\n",
    "test_time_iter =[]\n",
    "\n",
    "online_lr = 1e-1\n",
    "\n",
    "X_init, y_init_24hours, X_t, y_t_24hours = generate_data()\n",
    "\n",
    "for hour in range(1):\n",
    "  print(hour)\n",
    "  y_init = torch.squeeze(y_init_24hours[:,hour])\n",
    "  y_t = torch.squeeze(y_t_24hours[:,hour])\n",
    "  # initialize pyro\n",
    "  \n",
    "  init_x= X_init\n",
    "  init_y= y_init[:,None]\n",
    "  X = X_t\n",
    "  Y = y_t[:,None]\n",
    "\n",
    "  # Initialize the model\n",
    "\n",
    "  stem = Identity(input_dim=init_x.size(-1))  ### CHECK the role of this variable!!!!!\n",
    "\n",
    "  #covar_module = gpytorch.kernels.SpectralMixtureKernel(num_mixtures=3)\n",
    "  covar_module = gpytorch.kernels.RBFKernel()\n",
    "\n",
    "  wiski_model = models.OnlineSKIRegression(stem, init_x, init_y, lr=1e-1, grid_size=8*M, grid_bound=5.5, covar_module=covar_module)\n",
    "  #wiski_model = try_cuda(wiski_model)\n",
    "  wiski_model.fit(init_x, init_y, num_steps_init)  # pretrain model\n",
    "\n",
    "  mse_pred = []\n",
    "  mean_pred = []\n",
    "  std_pred = []\n",
    "  IC_95 = []\n",
    "  test_time = 0\n",
    "  train_time = 0\n",
    "\n",
    "  wiski_model.set_lr(1e-2)\n",
    "\n",
    "  for t, (x, y) in enumerate(zip(X, Y)):\n",
    "    \n",
    "      X_new =  X[t:t+1]\n",
    "      y_new = Y[t:t+1]\n",
    "\n",
    "      # Compute test error predicting next sample\n",
    "      start = time.process_time()  \n",
    "      with torch.no_grad():\n",
    "        pred, cov = wiski_model.predict(X_new)\n",
    "      test_time += (time.process_time()-start) \n",
    "\n",
    "      mean_pred.append(pred.numpy())\n",
    "    \n",
    "      mse = (pred-y_new)**2\n",
    "      mse_pred.append(mse.numpy())\n",
    "\n",
    "      std = torch.sqrt(cov)\n",
    "      std_pred.append(std.detach().numpy())\n",
    "      IC_95.append((torch.abs(y_new-pred)<2*std).numpy())\n",
    "      \n",
    "      start = time.process_time() \n",
    "      wiski_model.update(x, y)\n",
    "      train_time += (time.process_time()-start) \n",
    "  \n",
    "  # Save variables\n",
    "  mse_pred_iter.append(mse_pred)\n",
    "  std_pred_iter.append(std_pred)\n",
    "  mean_pred_iter.append(mean_pred)\n",
    "  IC_95_iter.append(IC_95)\n",
    "  train_time_iter.append(train_time)\n",
    "  test_time_iter.append(test_time)"
   ]
  },
  {
   "cell_type": "code",
   "execution_count": null,
   "metadata": {
    "colab": {
     "base_uri": "https://localhost:8080/"
    },
    "executionInfo": {
     "elapsed": 10,
     "status": "ok",
     "timestamp": 1661695333373,
     "user": {
      "displayName": "VANESSA GOMEZ VERDEJO",
      "userId": "10847227554119461925"
     },
     "user_tz": -120
    },
    "id": "sNhWd5bk_Wc0",
    "outputId": "3d9ffff7-b79b-44b7-8815-d219b9918fc1"
   },
   "outputs": [],
   "source": [
    "print('Training time: %2.4f' %np.mean(train_time_iter))\n",
    "print('Test time: %2.4f' %np.mean(test_time_iter))"
   ]
  }
 ],
 "metadata": {
  "colab": {
   "collapsed_sections": [],
   "provenance": [
    {
     "file_id": "10SCcPak2Bko4ynVyr2T88UTtE7T9nvLc",
     "timestamp": 1661777170426
    },
    {
     "file_id": "1Qm2PZAVybehEPelbbabsPXr0juGrHF70",
     "timestamp": 1660051195177
    },
    {
     "file_id": "1PG7mf81JI1GFppArhILeCNwapwDPP3Dd",
     "timestamp": 1658502966595
    }
   ],
   "toc_visible": true
  },
  "kernelspec": {
   "display_name": "Python 3 (ipykernel)",
   "language": "python",
   "name": "python3"
  },
  "language_info": {
   "codemirror_mode": {
    "name": "ipython",
    "version": 3
   },
   "file_extension": ".py",
   "mimetype": "text/x-python",
   "name": "python",
   "nbconvert_exporter": "python",
   "pygments_lexer": "ipython3",
   "version": "3.8.13"
  }
 },
 "nbformat": 4,
 "nbformat_minor": 1
}
